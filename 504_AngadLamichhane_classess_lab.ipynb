{
 "metadata": {
  "language_info": {
   "codemirror_mode": {
    "name": "ipython",
    "version": 3
   },
   "file_extension": ".py",
   "mimetype": "text/x-python",
   "name": "python",
   "nbconvert_exporter": "python",
   "pygments_lexer": "ipython3",
   "version": "3.8.5"
  },
  "orig_nbformat": 4,
  "kernelspec": {
   "name": "python3",
   "display_name": "Python 3.8.5 64-bit ('base': conda)"
  },
  "interpreter": {
   "hash": "b3ba2566441a7c06988d0923437866b63cedc61552a5af99d1f4fb67d367b25f"
  }
 },
 "nbformat": 4,
 "nbformat_minor": 2,
 "cells": [
  {
   "cell_type": "code",
   "execution_count": 1,
   "metadata": {},
   "outputs": [
    {
     "output_type": "execute_result",
     "data": {
      "text/plain": [
       "'Classes and objects'"
      ]
     },
     "metadata": {},
     "execution_count": 1
    }
   ],
   "source": [
    "'''Classes and objects'''"
   ]
  },
  {
   "cell_type": "code",
   "execution_count": 2,
   "metadata": {},
   "outputs": [
    {
     "output_type": "stream",
     "name": "stdout",
     "text": [
      "the type of the roll_number variable is  <class 'int'>\nThe type of the cllege variable is <class 'str'>\nThe type of c variable is <class 'list'>\n"
     ]
    }
   ],
   "source": [
    "roll_number = 504 #assign the  class integer\n",
    "college = 'WRC' #assign the class string \n",
    "c = [1,'wrc','IOE'] #assign the class lists\n",
    "print(f'the type of the roll_number variable is  {type(roll_number)}')\n",
    "print(f'The type of the cllege variable is {type(college)}')\n",
    "print(f'The type of c variable is {type(c)}')"
   ]
  },
  {
   "cell_type": "code",
   "execution_count": 3,
   "metadata": {},
   "outputs": [
    {
     "output_type": "stream",
     "name": "stdout",
     "text": [
      "<class '__main__.Point'>\n"
     ]
    }
   ],
   "source": [
    "#userdefined class\n",
    "class Point:\n",
    "    \"Represent the 2D object in space\" #class statements\n",
    "print(Point) "
   ]
  },
  {
   "cell_type": "code",
   "execution_count": 4,
   "metadata": {},
   "outputs": [
    {
     "output_type": "stream",
     "name": "stdout",
     "text": [
      "<__main__.Point object at 0x00000210F73110A0>\n"
     ]
    }
   ],
   "source": [
    "blank = Point() #creating the instancese of the class Point\n",
    "print(blank)"
   ]
  },
  {
   "cell_type": "code",
   "execution_count": 5,
   "metadata": {},
   "outputs": [],
   "source": [
    "class Myclass: #class definition\n",
    "    '''WRC BGE 504''' #doctype string\n",
    "    roll = 504 #class global variable\n",
    "    def myfunction(self): #class function \n",
    "        return 'HI i am angad lamichhane' #function statements\n",
    "angad = Myclass() #x is the instance of Myclasss"
   ]
  },
  {
   "cell_type": "code",
   "execution_count": 6,
   "metadata": {},
   "outputs": [
    {
     "output_type": "execute_result",
     "data": {
      "text/plain": [
       "<__main__.Myclass at 0x210f7311310>"
      ]
     },
     "metadata": {},
     "execution_count": 6
    }
   ],
   "source": [
    "Myclass()"
   ]
  },
  {
   "cell_type": "code",
   "execution_count": 7,
   "metadata": {},
   "outputs": [
    {
     "output_type": "execute_result",
     "data": {
      "text/plain": [
       "504"
      ]
     },
     "metadata": {},
     "execution_count": 7
    }
   ],
   "source": [
    "angad.roll #calling class variable"
   ]
  },
  {
   "cell_type": "code",
   "execution_count": 8,
   "metadata": {},
   "outputs": [
    {
     "output_type": "execute_result",
     "data": {
      "text/plain": [
       "'HI i am angad lamichhane'"
      ]
     },
     "metadata": {},
     "execution_count": 8
    }
   ],
   "source": [
    "angad.myfunction() #calling the class function "
   ]
  },
  {
   "cell_type": "code",
   "execution_count": 9,
   "metadata": {},
   "outputs": [
    {
     "output_type": "execute_result",
     "data": {
      "text/plain": [
       "'WRC BGE 504'"
      ]
     },
     "metadata": {},
     "execution_count": 9
    }
   ],
   "source": [
    "#calling the docstring\n",
    "angad.__doc__"
   ]
  },
  {
   "cell_type": "code",
   "execution_count": 10,
   "metadata": {},
   "outputs": [
    {
     "output_type": "stream",
     "name": "stdout",
     "text": [
      "My name is Angad and my age is 23\n"
     ]
    }
   ],
   "source": [
    "#simplest type of class\n",
    "class Student: #defines class\n",
    "    '''this is a student class''' #docstring\n",
    "    def __init__(self,name,age): #specify this belogs to dog class like constructor in c++ also called as instance attributes\n",
    "        self.name = name #creates an attribute called name and assigns to it the value od the name parameter\n",
    "        self.age = age\n",
    "    \n",
    "buddy = Student(\"Buddy\",19) #instances of the student class\n",
    "angad = Student(\"Angad\",23)\n",
    "print(f'My name is {angad.name} and my age is {angad.age}') "
   ]
  },
  {
   "cell_type": "code",
   "execution_count": 11,
   "metadata": {},
   "outputs": [
    {
     "output_type": "stream",
     "name": "stdout",
     "text": [
      "My name is Buddy and my age is 19\n"
     ]
    }
   ],
   "source": [
    "print(f'My name is {buddy.name} and my age is {buddy.age}')"
   ]
  },
  {
   "cell_type": "code",
   "execution_count": 12,
   "metadata": {},
   "outputs": [
    {
     "output_type": "stream",
     "name": "stdout",
     "text": [
      "<class '__main__.Point'>\n"
     ]
    }
   ],
   "source": [
    "#copy \n",
    "class Point:\n",
    "    '''Represents a point in 2-D space'''\n",
    "print(Point)"
   ]
  },
  {
   "cell_type": "code",
   "execution_count": 13,
   "metadata": {},
   "outputs": [],
   "source": [
    "p1 = Point() \n",
    "p1.x = 3.0 #assigning the class varibale outside the class\n",
    "p1.y = 4.0\n"
   ]
  },
  {
   "cell_type": "code",
   "execution_count": 14,
   "metadata": {},
   "outputs": [],
   "source": [
    "import copy #importing the copy module "
   ]
  },
  {
   "cell_type": "code",
   "execution_count": 15,
   "metadata": {},
   "outputs": [],
   "source": [
    "p2 = copy.copy(p1) #copy module calling the copy function and takes the arguments the p1"
   ]
  },
  {
   "cell_type": "code",
   "execution_count": 16,
   "metadata": {},
   "outputs": [],
   "source": [
    "#shallow copy\n",
    "class Rectangle:\n",
    "    '''Represent a rectangle attributes: width, height, corner'''\n",
    "box = Rectangle()\n",
    "box.width = 100.0 #making the class variable and assigning the value\n",
    "box.height = 150.00\n",
    "box.corner = Point() #assigning the corner attribute to the point class attribute\n",
    "box.corner.x = 0.0 #assigning the vlaue\n",
    "box.corner.y = 0.0\n"
   ]
  },
  {
   "cell_type": "code",
   "execution_count": 17,
   "metadata": {},
   "outputs": [
    {
     "output_type": "stream",
     "name": "stdout",
     "text": [
      "150.0\n"
     ]
    }
   ],
   "source": [
    "print (box.height)"
   ]
  },
  {
   "cell_type": "code",
   "execution_count": 18,
   "metadata": {},
   "outputs": [
    {
     "output_type": "execute_result",
     "data": {
      "text/plain": [
       "100.0"
      ]
     },
     "metadata": {},
     "execution_count": 18
    }
   ],
   "source": [
    "box.width"
   ]
  },
  {
   "cell_type": "code",
   "execution_count": 19,
   "metadata": {},
   "outputs": [],
   "source": [
    "#writing the functions that modify the objects\n",
    "def grow_rectangle(rect, dwidth,dheight):\n",
    "     rect.width = rect.width + dwidth\n",
    "     rect.height += dheight #adding the value of height to the rectangle height for to modify the orginal class"
   ]
  },
  {
   "cell_type": "code",
   "execution_count": 20,
   "metadata": {},
   "outputs": [
    {
     "output_type": "stream",
     "name": "stdout",
     "text": [
      "New width of rectangle is 150.0, and New height is 250.0\n"
     ]
    }
   ],
   "source": [
    "grow_rectangle(box, 50, 100) #calling the function with 3 argumments\n",
    "print(f'New width of rectangle is {box.width}, and New height is {box.height}')"
   ]
  },
  {
   "cell_type": "code",
   "execution_count": 21,
   "metadata": {},
   "outputs": [
    {
     "output_type": "execute_result",
     "data": {
      "text/plain": [
       "False"
      ]
     },
     "metadata": {},
     "execution_count": 21
    }
   ],
   "source": [
    "box2 = copy.copy(box)\n",
    "box2 is box"
   ]
  },
  {
   "cell_type": "code",
   "execution_count": 22,
   "metadata": {},
   "outputs": [
    {
     "output_type": "execute_result",
     "data": {
      "text/plain": [
       "True"
      ]
     },
     "metadata": {},
     "execution_count": 22
    }
   ],
   "source": [
    "box2.corner is box.corner #copy the object referesence"
   ]
  },
  {
   "cell_type": "code",
   "execution_count": 23,
   "metadata": {},
   "outputs": [
    {
     "output_type": "execute_result",
     "data": {
      "text/plain": [
       "False"
      ]
     },
     "metadata": {},
     "execution_count": 23
    }
   ],
   "source": [
    "#deep copy \n",
    "box3 = copy.deepcopy(box) #calling the deepcopy function from the copy module \n",
    "#checking the condition \n",
    "box3 is box #box3 and box are completely separate object"
   ]
  },
  {
   "cell_type": "code",
   "execution_count": 24,
   "metadata": {},
   "outputs": [
    {
     "output_type": "execute_result",
     "data": {
      "text/plain": [
       "False"
      ]
     },
     "metadata": {},
     "execution_count": 24
    }
   ],
   "source": [
    "box3.corner is box.corner #deep copy copy both the object as well as to the object referesences "
   ]
  },
  {
   "cell_type": "code",
   "execution_count": null,
   "metadata": {},
   "outputs": [],
   "source": []
  }
 ]
}