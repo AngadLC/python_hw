{
 "metadata": {
  "language_info": {
   "codemirror_mode": {
    "name": "ipython",
    "version": 3
   },
   "file_extension": ".py",
   "mimetype": "text/x-python",
   "name": "python",
   "nbconvert_exporter": "python",
   "pygments_lexer": "ipython3",
   "version": "3.8.5"
  },
  "orig_nbformat": 4,
  "kernelspec": {
   "name": "python3",
   "display_name": "Python 3.8.5 64-bit ('base': conda)"
  },
  "interpreter": {
   "hash": "b3ba2566441a7c06988d0923437866b63cedc61552a5af99d1f4fb67d367b25f"
  }
 },
 "nbformat": 4,
 "nbformat_minor": 2,
 "cells": [
  {
   "cell_type": "code",
   "execution_count": 1,
   "source": [
    "'''Classes and objects'''"
   ],
   "outputs": [
    {
     "output_type": "execute_result",
     "data": {
      "text/plain": [
       "'Classes and objects'"
      ]
     },
     "metadata": {},
     "execution_count": 1
    }
   ],
   "metadata": {}
  },
  {
   "cell_type": "code",
   "execution_count": 1,
   "source": [
    "roll_number = 504 #assign the  class integer\r\n",
    "college = 'WRC' #assign the class string \r\n",
    "c = [1,'wrc','IOE'] #assign the class lists\r\n",
    "print(f'the type of the roll_number variable is  {type(roll_number)}')\r\n",
    "print(f'The type of the cllege variable is {type(college)}')\r\n",
    "print(f'The type of c variable is {type(c)}')"
   ],
   "outputs": [
    {
     "output_type": "stream",
     "name": "stdout",
     "text": [
      "the type of the roll_number variable is  <class 'int'>\n",
      "The type of the cllege variable is <class 'str'>\n",
      "The type of c variable is <class 'list'>\n"
     ]
    }
   ],
   "metadata": {}
  },
  {
   "cell_type": "code",
   "execution_count": 2,
   "source": [
    "#userdefined class\r\n",
    "class Point:\r\n",
    "    \"Represent the 2D object in space\" #class statements\r\n",
    "print(Point) "
   ],
   "outputs": [
    {
     "output_type": "stream",
     "name": "stdout",
     "text": [
      "<class '__main__.Point'>\n"
     ]
    }
   ],
   "metadata": {}
  },
  {
   "cell_type": "code",
   "execution_count": 3,
   "source": [
    "blank = Point() #creating the instancese of the class Point\r\n",
    "print(blank)"
   ],
   "outputs": [
    {
     "output_type": "stream",
     "name": "stdout",
     "text": [
      "<__main__.Point object at 0x0000026767AAEAF0>\n"
     ]
    }
   ],
   "metadata": {}
  },
  {
   "cell_type": "code",
   "execution_count": 11,
   "source": [
    "class Myclass: #class definition\r\n",
    "    '''WRC BGE 504''' #doctype string\r\n",
    "    roll = 504 #class global variable\r\n",
    "    def myfunction(self): #class function \r\n",
    "        return 'HI i am Angad Lamichhane' #function statements\r\n",
    "angad = Myclass() #x is the instance of Myclasss"
   ],
   "outputs": [],
   "metadata": {}
  },
  {
   "cell_type": "code",
   "execution_count": 6,
   "source": [
    "Myclass()"
   ],
   "outputs": [
    {
     "output_type": "execute_result",
     "data": {
      "text/plain": [
       "<__main__.Myclass at 0x1ab55e01b80>"
      ]
     },
     "metadata": {},
     "execution_count": 6
    }
   ],
   "metadata": {}
  },
  {
   "cell_type": "code",
   "execution_count": 5,
   "source": [
    "angad.roll #calling class variable"
   ],
   "outputs": [
    {
     "output_type": "execute_result",
     "data": {
      "text/plain": [
       "504"
      ]
     },
     "metadata": {},
     "execution_count": 5
    }
   ],
   "metadata": {}
  },
  {
   "cell_type": "code",
   "execution_count": 6,
   "source": [
    "angad.myfunction() #calling the class function "
   ],
   "outputs": [
    {
     "output_type": "execute_result",
     "data": {
      "text/plain": [
       "'HI i am Angad Lamichhane'"
      ]
     },
     "metadata": {},
     "execution_count": 6
    }
   ],
   "metadata": {}
  },
  {
   "cell_type": "code",
   "execution_count": 12,
   "source": [
    "#calling the docstring\r\n",
    "angad.__doc__"
   ],
   "outputs": [
    {
     "output_type": "execute_result",
     "data": {
      "text/plain": [
       "'WRC BGE 504'"
      ]
     },
     "metadata": {},
     "execution_count": 12
    }
   ],
   "metadata": {}
  },
  {
   "cell_type": "code",
   "execution_count": 10,
   "source": [
    "#simplest type of class\r\n",
    "class Student: #defines class\r\n",
    "    '''this is a student class''' #docstring\r\n",
    "    def __init__(self,name,age): #specify this belogs to dog class like constructor in c++ also called as instance attributes\r\n",
    "        self.name = name #creates an attribute called name and assigns to it the value od the name parameter\r\n",
    "        self.age = age\r\n",
    "    \r\n",
    "buddy = Student(\"Arjun\",19) #instances of the student class\r\n",
    "angad = Student(\"angad\",23)\r\n",
    "print(f'My name is {angad.name} and my age is {angad.age}') "
   ],
   "outputs": [
    {
     "output_type": "stream",
     "name": "stdout",
     "text": [
      "My name is Ajaya and my age is 23\n"
     ]
    }
   ],
   "metadata": {}
  },
  {
   "cell_type": "code",
   "execution_count": 11,
   "source": [
    "print(f'My name is {buddy.name} and my age is {buddy.age}')"
   ],
   "outputs": [
    {
     "output_type": "stream",
     "name": "stdout",
     "text": [
      "My name is Arjun and my age is 19\n"
     ]
    }
   ],
   "metadata": {}
  },
  {
   "cell_type": "code",
   "execution_count": 12,
   "source": [
    "#copy \n",
    "class Point:\n",
    "    '''Represents a point in 2-D space'''\n",
    "print(Point)"
   ],
   "outputs": [
    {
     "output_type": "stream",
     "name": "stdout",
     "text": [
      "<class '__main__.Point'>\n"
     ]
    }
   ],
   "metadata": {}
  },
  {
   "cell_type": "code",
   "execution_count": 13,
   "source": [
    "p1 = Point() \n",
    "p1.x = 3.0 #assigning the class varibale outside the class\n",
    "p1.y = 4.0\n"
   ],
   "outputs": [],
   "metadata": {}
  },
  {
   "cell_type": "code",
   "execution_count": 14,
   "source": [
    "import copy #importing the copy module "
   ],
   "outputs": [],
   "metadata": {}
  },
  {
   "cell_type": "code",
   "execution_count": 15,
   "source": [
    "p2 = copy.copy(p1) #copy module calling the copy function and takes the arguments the p1"
   ],
   "outputs": [],
   "metadata": {}
  },
  {
   "cell_type": "code",
   "execution_count": 16,
   "source": [
    "#shallow copy\n",
    "class Rectangle:\n",
    "    '''Represent a rectangle attributes: width, height, corner'''\n",
    "box = Rectangle()\n",
    "box.width = 100.0 #making the class variable and assigning the value\n",
    "box.height = 150.00\n",
    "box.corner = Point() #assigning the corner attribute to the point class attribute\n",
    "box.corner.x = 0.0 #assigning the vlaue\n",
    "box.corner.y = 0.0\n"
   ],
   "outputs": [],
   "metadata": {}
  },
  {
   "cell_type": "code",
   "execution_count": 17,
   "source": [
    "print (box.height)"
   ],
   "outputs": [
    {
     "output_type": "stream",
     "name": "stdout",
     "text": [
      "150.0\n"
     ]
    }
   ],
   "metadata": {}
  },
  {
   "cell_type": "code",
   "execution_count": 18,
   "source": [
    "box.width"
   ],
   "outputs": [
    {
     "output_type": "execute_result",
     "data": {
      "text/plain": [
       "100.0"
      ]
     },
     "metadata": {},
     "execution_count": 18
    }
   ],
   "metadata": {}
  },
  {
   "cell_type": "code",
   "execution_count": 19,
   "source": [
    "#writing the functions that modify the objects\n",
    "def grow_rectangle(rect, dwidth,dheight):\n",
    "     rect.width = rect.width + dwidth\n",
    "     rect.height += dheight #adding the value of height to the rectangle height for to modify the orginal class"
   ],
   "outputs": [],
   "metadata": {}
  },
  {
   "cell_type": "code",
   "execution_count": 20,
   "source": [
    "grow_rectangle(box, 50, 100) #calling the function with 3 argumments\n",
    "print(f'New width of rectangle is {box.width}, and New height is {box.height}')"
   ],
   "outputs": [
    {
     "output_type": "stream",
     "name": "stdout",
     "text": [
      "New width of rectangle is 150.0, and New height is 250.0\n"
     ]
    }
   ],
   "metadata": {}
  },
  {
   "cell_type": "code",
   "execution_count": 21,
   "source": [
    "box2 = copy.copy(box)\n",
    "box2 is box"
   ],
   "outputs": [
    {
     "output_type": "execute_result",
     "data": {
      "text/plain": [
       "False"
      ]
     },
     "metadata": {},
     "execution_count": 21
    }
   ],
   "metadata": {}
  },
  {
   "cell_type": "code",
   "execution_count": 22,
   "source": [
    "box2.corner is box.corner #copy the object referesence"
   ],
   "outputs": [
    {
     "output_type": "execute_result",
     "data": {
      "text/plain": [
       "True"
      ]
     },
     "metadata": {},
     "execution_count": 22
    }
   ],
   "metadata": {}
  },
  {
   "cell_type": "code",
   "execution_count": 23,
   "source": [
    "#deep copy \n",
    "box3 = copy.deepcopy(box) #calling the deepcopy function from the copy module \n",
    "#checking the condition \n",
    "box3 is box #box3 and box are completely separate object"
   ],
   "outputs": [
    {
     "output_type": "execute_result",
     "data": {
      "text/plain": [
       "False"
      ]
     },
     "metadata": {},
     "execution_count": 23
    }
   ],
   "metadata": {}
  },
  {
   "cell_type": "code",
   "execution_count": 24,
   "source": [
    "box3.corner is box.corner #deep copy copy both the object as well as to the object referesences "
   ],
   "outputs": [
    {
     "output_type": "execute_result",
     "data": {
      "text/plain": [
       "False"
      ]
     },
     "metadata": {},
     "execution_count": 24
    }
   ],
   "metadata": {}
  },
  {
   "cell_type": "code",
   "execution_count": null,
   "source": [],
   "outputs": [],
   "metadata": {}
  }
 ]
}