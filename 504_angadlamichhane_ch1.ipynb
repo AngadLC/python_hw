{
    "cells": [
        {
            "cell_type": "code",
            "execution_count": 18,
            "source": [
                "#hello this is comment in python"
            ],
            "outputs": [],
            "metadata": {}
        },
        {
            "cell_type": "code",
            "execution_count": 19,
            "source": [
                "#literals\r\n",
                "''' Literals are defined as the data that is given in a varaible or constant\r\n",
                "There are mainly three types of literals in python. They are numeric literas, string literals,\r\n",
                "Booleen literals'''"
            ],
            "outputs": [
                {
                    "output_type": "execute_result",
                    "data": {
                        "text/plain": [
                            "' Literals are defined as the data that is given in a varaible or constant\\nThere are mainly three types of literals in python. They are numeric literas, string literals,\\nBooleen literals'"
                        ]
                    },
                    "metadata": {},
                    "execution_count": 19
                }
            ],
            "metadata": {}
        },
        {
            "cell_type": "code",
            "execution_count": 20,
            "source": [
                "print(\"hello word\")"
            ],
            "outputs": [
                {
                    "output_type": "stream",
                    "name": "stdout",
                    "text": [
                        "hello word\n"
                    ]
                }
            ],
            "metadata": {}
        },
        {
            "cell_type": "code",
            "execution_count": 21,
            "source": [
                "'''statements and expressions'''"
            ],
            "outputs": [
                {
                    "output_type": "execute_result",
                    "data": {
                        "text/plain": [
                            "'statements and expressions'"
                        ]
                    },
                    "metadata": {},
                    "execution_count": 21
                }
            ],
            "metadata": {}
        },
        {
            "cell_type": "code",
            "execution_count": 22,
            "source": [
                "'''Expressions is the combination of the values , operators and variables.\r\n",
                " A value itself is called as the expressions in python '''\r\n",
                "42\r\n"
            ],
            "outputs": [
                {
                    "output_type": "execute_result",
                    "data": {
                        "text/plain": [
                            "42"
                        ]
                    },
                    "metadata": {},
                    "execution_count": 22
                }
            ],
            "metadata": {}
        },
        {
            "cell_type": "code",
            "execution_count": 23,
            "source": [
                "n=17\r\n",
                "print(n)\r\n",
                "print(n+25) #expression with vaiavles and operator"
            ],
            "outputs": [
                {
                    "output_type": "stream",
                    "name": "stdout",
                    "text": [
                        "17\n",
                        "42\n"
                    ]
                }
            ],
            "metadata": {}
        },
        {
            "cell_type": "code",
            "execution_count": 24,
            "source": [
                "(8"
            ],
            "outputs": [
                {
                    "output_type": "error",
                    "ename": "SyntaxError",
                    "evalue": "unexpected EOF while parsing (<ipython-input-24-be6d75c017a3>, line 1)",
                    "traceback": [
                        "\u001b[1;36m  File \u001b[1;32m\"<ipython-input-24-be6d75c017a3>\"\u001b[1;36m, line \u001b[1;32m1\u001b[0m\n\u001b[1;33m    (8\u001b[0m\n\u001b[1;37m      ^\u001b[0m\n\u001b[1;31mSyntaxError\u001b[0m\u001b[1;31m:\u001b[0m unexpected EOF while parsing\n"
                    ]
                }
            ],
            "metadata": {}
        },
        {
            "cell_type": "code",
            "execution_count": 25,
            "source": [
                "#calculating the volume of the sphere\r\n",
                "radius = 5\r\n",
                "print(f'radius of the spahere is {radius}')\r\n",
                "import math\r\n",
                "volume = (4/3)*(math.pi)*radius*radius*radius\r\n",
                "print(f\"volume of sphere is {volume}\")"
            ],
            "outputs": [
                {
                    "output_type": "stream",
                    "name": "stdout",
                    "text": [
                        "radius of the spahere is 5\n",
                        "volume of sphere is 523.5987755982989\n"
                    ]
                }
            ],
            "metadata": {}
        },
        {
            "cell_type": "code",
            "execution_count": 31,
            "source": [
                "#wholesale price of the book\r\n",
                "price_of_book = 24.95\r\n",
                "discount_per_book = 40/100*price_of_book\r\n",
                "# discount_per_book\r\n",
                "Shipping_cost_for_first_copy = 3\r\n",
                "shipping_for_additional = 0.75\r\n",
                "total_copies = 60\r\n",
                "total_shipping_costs = Shipping_cost_for_first_copy+shipping_for_additional*(total_copies-1)\r\n",
                "print(f\"Total shipping costs {total_shipping_costs}\")\r\n",
                "total_cost_of_book= price_of_book*total_copies-(discount_per_book*total_copies)\r\n",
                "total_whole_sale_cost = total_shipping_costs+total_cost_of_book\r\n",
                "print(f\"Total cost of book is{total_whole_sale_cost}\") \r\n"
            ],
            "outputs": [
                {
                    "output_type": "stream",
                    "name": "stdout",
                    "text": [
                        "Total shipping costs 47.25\n",
                        "Total cost of book is945.4499999999999\n"
                    ]
                }
            ],
            "metadata": {}
        },
        {
            "cell_type": "code",
            "execution_count": 38,
            "source": [
                "def double_it(x):\r\n",
                "\r\n",
                "    y = x+x\r\n",
                "    print(f'the value inside the function {y}')\r\n",
                "    return x+x\r\n",
                "value = double_it(13)\r\n",
                "print(f'The value outside the func {value}')"
            ],
            "outputs": [
                {
                    "output_type": "stream",
                    "name": "stdout",
                    "text": [
                        "the value inside the function 26\n",
                        "The value outside the func None\n"
                    ]
                }
            ],
            "metadata": {}
        },
        {
            "cell_type": "code",
            "execution_count": 2,
            "source": [
                "# functions\r\n",
                "def print_twice(brucee):\r\n",
                "    print(brucee)\r\n",
                "    print(brucee)\r\n",
                "\r\n",
                "def cat_twice(part1, part2):\r\n",
                "    cat = part1+ part2\r\n",
                "    print_twice(cat)\r\n",
                "    \r\n",
                "line1 = 'bing tiddle'\r\n",
                "line2= 'tiddle bing'\r\n",
                "cat_twice(line1,line2)\r\n",
                "print(cat)"
            ],
            "outputs": [
                {
                    "output_type": "stream",
                    "name": "stdout",
                    "text": [
                        "bing tiddletiddle bing\n",
                        "bing tiddletiddle bing\n"
                    ]
                }
            ],
            "metadata": {}
        }
    ],
    "metadata": {
        "orig_nbformat": 4,
        "language_info": {
            "name": "python",
            "version": "3.8.5",
            "mimetype": "text/x-python",
            "codemirror_mode": {
                "name": "ipython",
                "version": 3
            },
            "pygments_lexer": "ipython3",
            "nbconvert_exporter": "python",
            "file_extension": ".py"
        },
        "kernelspec": {
            "name": "python3",
            "display_name": "Python 3.8.5 64-bit ('base': conda)"
        },
        "interpreter": {
            "hash": "b3ba2566441a7c06988d0923437866b63cedc61552a5af99d1f4fb67d367b25f"
        }
    },
    "nbformat": 4,
    "nbformat_minor": 2
}