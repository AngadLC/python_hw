{
    "cells": [
        {
            "cell_type": "code",
            "execution_count": null,
            "source": [
                "#hello this is comment in python"
            ],
            "outputs": [],
            "metadata": {}
        },
        {
            "cell_type": "code",
            "execution_count": null,
            "source": [
                "#literals\r\n",
                "''' Literals are defined as the data that is given in a varaible or constant\r\n",
                "There are mainly three types of literals in python. They are numeric literas, string literals,\r\n",
                "Booleen literals'''"
            ],
            "outputs": [],
            "metadata": {}
        },
        {
            "cell_type": "code",
            "execution_count": null,
            "source": [
                "print(\"hello word\")"
            ],
            "outputs": [],
            "metadata": {}
        },
        {
            "cell_type": "code",
            "execution_count": null,
            "source": [
                "'''statements and expressions'''"
            ],
            "outputs": [],
            "metadata": {}
        },
        {
            "cell_type": "code",
            "execution_count": null,
            "source": [
                "'''Expressions is the combination of the values , operators and variables.\r\n",
                " A value itself is called as the expressions in python '''\r\n",
                "42\r\n"
            ],
            "outputs": [],
            "metadata": {}
        },
        {
            "cell_type": "code",
            "execution_count": null,
            "source": [
                "n=17\r\n",
                "print(n)\r\n",
                "print(n+25) #expression with vaiavles and operator"
            ],
            "outputs": [],
            "metadata": {}
        },
        {
            "cell_type": "code",
            "execution_count": null,
            "source": [
                "(8"
            ],
            "outputs": [],
            "metadata": {}
        },
        {
            "cell_type": "code",
            "execution_count": null,
            "source": [
                "#calculating the volume of the sphere\r\n",
                "radius = 5\r\n",
                "print(f'radius of the spahere is {radius}')\r\n",
                "import math\r\n",
                "volume = (4/3)*(math.pi)*radius*radius*radius\r\n",
                "print(f\"volume of sphere is {volume}\")"
            ],
            "outputs": [],
            "metadata": {}
        },
        {
            "cell_type": "code",
            "execution_count": null,
            "source": [
                "#wholesale price of the book\r\n",
                "price_of_book = 24.95\r\n",
                "discount_per_book = 40/100*price_of_book\r\n",
                "# discount_per_book\r\n",
                "Shipping_cost_for_first_copy = 3\r\n",
                "shipping_for_additional = 0.75\r\n",
                "total_copies = 60\r\n",
                "total_shipping_costs = Shipping_cost_for_first_copy+shipping_for_additional*(total_copies-1)\r\n",
                "print(f\"Total shipping costs {total_shipping_costs}\")\r\n",
                "total_cost_of_book= price_of_book*total_copies-(discount_per_book*total_copies)\r\n",
                "total_whole_sale_cost = total_shipping_costs+total_cost_of_book\r\n",
                "print(f\"Total cost of book is{total_whole_sale_cost}\") \r\n"
            ],
            "outputs": [],
            "metadata": {}
        },
        {
            "cell_type": "code",
            "execution_count": null,
            "source": [
                "def double_it(x):\r\n",
                "\r\n",
                "    y = x+x\r\n",
                "    print(f'the value inside the function {y}')\r\n",
                "    return x+x\r\n",
                "value = double_it(13)\r\n",
                "print(f'The value outside the func {value}')"
            ],
            "outputs": [],
            "metadata": {}
        },
        {
            "cell_type": "code",
            "execution_count": null,
            "source": [
                "# functions\r\n",
                "def print_twice(brucee):\r\n",
                "    print(brucee)\r\n",
                "    print(brucee)\r\n",
                "\r\n",
                "def cat_twice(part1, part2):\r\n",
                "    cat = part1+ part2\r\n",
                "    print_twice(cat)\r\n",
                "    \r\n",
                "line1 = 'bing tiddle'\r\n",
                "line2= 'tiddle bing'\r\n",
                "cat_twice(line1,line2)\r\n",
                "print(cat)"
            ],
            "outputs": [],
            "metadata": {}
        },
        {
            "cell_type": "code",
            "execution_count": 7,
            "source": [
                "#recursive function\r\n",
                "def factoiral_recursive(n):\r\n",
                "    #base_case\r\n",
                "    if (n == 1):\r\n",
                "        return 1\r\n",
                "    else :\r\n",
                "        return n * factoiral_recursive(n-1)\r\n",
                "\r\n",
                "number = int(input(\"enter the number whose factorial is needed\"))\r\n",
                "print('The factorial of the {0} is {1}'.format(number, factoiral_recursive(number)))"
            ],
            "outputs": [
                {
                    "output_type": "stream",
                    "name": "stdout",
                    "text": [
                        "The factorial of the 5 is 120\n"
                    ]
                }
            ],
            "metadata": {}
        },
        {
            "cell_type": "code",
            "execution_count": 61,
            "source": [
                "#random python module\r\n",
                "import random \r\n",
                "#random value of float types \r\n",
                "print(random.random())#doesnot required any argument\r\n",
                "print('random value in integer{0}'.format(random.randint(1,10)))\r\n",
                "#get random value in the specified range with defined increment value\r\n",
                "print(f'the random value between 1 to 100 with the increment of 10 is {random.randrange(0,100,10)}')\r\n",
                "#choice \r\n",
                "print(f'the random choice from the variable is {random.choice(\"computer\")}')\r\n",
                "#shuffle\r\n",
                "list1 = [1,2,3,4,5,6]\r\n",
                "random.shuffle(list1)\r\n",
                "print('its suffle the value of list {0}, {1}'.format(list1,12))"
            ],
            "outputs": [
                {
                    "output_type": "stream",
                    "name": "stdout",
                    "text": [
                        "0.441508872222077\n",
                        "random value in integer8\n",
                        "the random value between 1 to 100 with the increment of 10 is 40\n",
                        "the random choice from the variable is u\n",
                        "its suffle the value of list [3, 1, 4, 2, 6, 5], 12\n"
                    ]
                }
            ],
            "metadata": {}
        },
        {
            "cell_type": "code",
            "execution_count": 67,
            "source": [
                "#calender module\r\n",
                "import calendar\r\n",
                "#print the calender of year 2021\r\n",
                "# print(calendar.calendar(2021))\r\n",
                "#print the calender of months feb only\r\n",
                "print(calendar.month(2021,2))\r\n",
                "#finding the weekend\r\n",
                "print(calendar.weekday(2021,2,1)) #calender day start with monday in python"
            ],
            "outputs": [
                {
                    "output_type": "stream",
                    "name": "stdout",
                    "text": [
                        "   February 2021\n",
                        "Mo Tu We Th Fr Sa Su\n",
                        " 1  2  3  4  5  6  7\n",
                        " 8  9 10 11 12 13 14\n",
                        "15 16 17 18 19 20 21\n",
                        "22 23 24 25 26 27 28\n",
                        "\n",
                        "0\n"
                    ]
                }
            ],
            "metadata": {}
        }
    ],
    "metadata": {
        "orig_nbformat": 4,
        "language_info": {
            "name": "python",
            "version": "3.8.5",
            "mimetype": "text/x-python",
            "codemirror_mode": {
                "name": "ipython",
                "version": 3
            },
            "pygments_lexer": "ipython3",
            "nbconvert_exporter": "python",
            "file_extension": ".py"
        },
        "kernelspec": {
            "name": "python3",
            "display_name": "Python 3.8.5 64-bit ('base': conda)"
        },
        "interpreter": {
            "hash": "b3ba2566441a7c06988d0923437866b63cedc61552a5af99d1f4fb67d367b25f"
        }
    },
    "nbformat": 4,
    "nbformat_minor": 2
}