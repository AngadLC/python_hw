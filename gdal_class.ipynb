{
    "cells": [
        {
            "cell_type": "code",
            "execution_count": 8,
            "source": [
                "'''Reading vector data sets'''"
            ],
            "outputs": [
                {
                    "output_type": "execute_result",
                    "data": {
                        "text/plain": [
                            "'Reading vector data sets'"
                        ]
                    },
                    "metadata": {},
                    "execution_count": 8
                }
            ],
            "metadata": {}
        },
        {
            "cell_type": "code",
            "execution_count": 9,
            "source": [
                "from osgeo import ogr\r\n",
                "import sys"
            ],
            "outputs": [],
            "metadata": {}
        },
        {
            "cell_type": "code",
            "execution_count": null,
            "source": [
                "#find the driver \r\n",
                "driver = ogr.GetDriverByName('ESRI Shapefile')"
            ],
            "outputs": [],
            "metadata": {}
        },
        {
            "cell_type": "code",
            "execution_count": 7,
            "source": [
                "fn = r'D:\\Geoclass\\7th sem\\7th sem\\application of GIS with python\\hw\\python_hw\\fire_location.shp'\r\n",
                "de = ogr.Open(fn,0)\r\n",
                "if de is None:\r\n",
                "    sys.exit('could not open {0}.'.format(de))\r\n",
                "\r\n",
                "lyr = de.GetLayer(0)\r\n",
                "i = 0\r\n",
                "for feat in lyr:\r\n",
                "    pt = feat.geometry()\r\n",
                "    x = pt.GetX()\r\n",
                "    y = pt.GetY()\r\n",
                "    scan = feat.GetField('SATELLITE')\r\n",
                "    pop = feat.GetField('INSTRUMENT')\r\n",
                "    print(scan,pop,x,y)\r\n",
                "    i +=1\r\n",
                "    if i== 10:\r\n",
                "        break\r\n",
                "del de"
            ],
            "outputs": [
                {
                    "output_type": "stream",
                    "name": "stdout",
                    "text": [
                        "Terra MODIS 83.8918 28.529\n",
                        "Terra MODIS 84.9761 28.2561\n",
                        "Terra MODIS 84.8402 28.3396\n",
                        "Terra MODIS 84.8226 28.2164\n",
                        "Terra MODIS 84.807 28.4474\n",
                        "Terra MODIS 85.0 28.3652\n",
                        "Terra MODIS 84.8406 28.3779\n",
                        "Terra MODIS 84.9507 28.3886\n",
                        "Terra MODIS 84.7901 28.3172\n",
                        "Terra MODIS 84.4653 28.4087\n"
                    ]
                }
            ],
            "metadata": {}
        },
        {
            "cell_type": "code",
            "execution_count": null,
            "source": [],
            "outputs": [],
            "metadata": {}
        }
    ],
    "metadata": {
        "orig_nbformat": 4,
        "language_info": {
            "name": "python",
            "version": "3.9.2",
            "mimetype": "text/x-python",
            "codemirror_mode": {
                "name": "ipython",
                "version": 3
            },
            "pygments_lexer": "ipython3",
            "nbconvert_exporter": "python",
            "file_extension": ".py"
        },
        "kernelspec": {
            "name": "python3",
            "display_name": "Python 3.9.2 64-bit ('last': conda)"
        },
        "interpreter": {
            "hash": "818e94800117f6058f452cb734fafb70ed00fce0325d972656f683ba1085bed3"
        }
    },
    "nbformat": 4,
    "nbformat_minor": 2
}