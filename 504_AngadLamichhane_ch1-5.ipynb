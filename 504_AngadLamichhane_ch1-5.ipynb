{
 "metadata": {
  "language_info": {
   "codemirror_mode": {
    "name": "ipython",
    "version": 3
   },
   "file_extension": ".py",
   "mimetype": "text/x-python",
   "name": "python",
   "nbconvert_exporter": "python",
   "pygments_lexer": "ipython3",
   "version": "3.8.5"
  },
  "orig_nbformat": 2,
  "kernelspec": {
   "name": "python385jvsc74a57bd0b3ba2566441a7c06988d0923437866b63cedc61552a5af99d1f4fb67d367b25f",
   "display_name": "Python 3.8.5 64-bit ('base': conda)"
  }
 },
 "nbformat": 4,
 "nbformat_minor": 2,
 "cells": [
  {
   "cell_type": "code",
   "execution_count": 25,
   "metadata": {},
   "outputs": [
    {
     "output_type": "execute_result",
     "data": {
      "text/plain": [
       "'Name:- Angad Lamichhane Unique_id:-PAS074BGE004\\n HW:- Application of python with GIS Chapter(1-5)'"
      ]
     },
     "metadata": {},
     "execution_count": 25
    }
   ],
   "source": [
    "'''Name:- Angad Lamichhane Unique_id:-PAS074BGE004\n",
    " HW:- Application of python with GIS Chapter(1-5)'''"
   ]
  },
  {
   "cell_type": "code",
   "execution_count": 26,
   "metadata": {},
   "outputs": [
    {
     "output_type": "stream",
     "name": "stdout",
     "text": [
      "Hi i am my_function\nI am inside the function\n"
     ]
    }
   ],
   "source": [
    "#function defination \n",
    "def my_function():\n",
    "    #function statements.\n",
    "    print(\"Hi i am my_function\")\n",
    "    print(\"I am inside the function\")\n",
    "#function call\n",
    "my_function()"
   ]
  },
  {
   "cell_type": "code",
   "execution_count": 27,
   "metadata": {},
   "outputs": [
    {
     "output_type": "stream",
     "name": "stdout",
     "text": [
      "sum of two number is : 11\nsum of two number is : 14\n"
     ]
    }
   ],
   "source": [
    "#Make a function which addes 2 number and print the sum\n",
    "def addition(a,b):#function with the parameters\n",
    "    c= a+b\n",
    "    print(f\"sum of two number is : {c}\")\n",
    "#function call with the two argument\n",
    "addition(5,6)\n",
    "addition(4,10)"
   ]
  },
  {
   "cell_type": "code",
   "execution_count": 28,
   "metadata": {},
   "outputs": [
    {
     "output_type": "stream",
     "name": "stdout",
     "text": [
      "The factorial value is 120\n"
     ]
    }
   ],
   "source": [
    "#number which factorial is to be found\n",
    "number = 5\n",
    "\n",
    "# recursive function calculating the factorial of the number\n",
    "def recursive(n):\n",
    "    if n==1:\n",
    "        return n #if n = 1 then it will retrun the 1\n",
    "    else:\n",
    "        return n*recursive(n-1) #recursive function until the n is less than 1\n",
    "\n",
    "#calling function\n",
    "factorial_value = recursive(number)\n",
    "print(f\"The factorial value is {factorial_value}\")"
   ]
  },
  {
   "cell_type": "code",
   "execution_count": 29,
   "metadata": {},
   "outputs": [
    {
     "output_type": "stream",
     "name": "stdout",
     "text": [
      "the addition of the number by itself is 10\n"
     ]
    }
   ],
   "source": [
    "#Fruitful Function\n",
    "def fruitful_function(n):\n",
    "    return n+n #return the value is the fruitful function\n",
    "print(\"the addition of the number by itself is\",fruitful_function(5))"
   ]
  },
  {
   "cell_type": "code",
   "execution_count": 30,
   "metadata": {},
   "outputs": [
    {
     "output_type": "stream",
     "name": "stdout",
     "text": [
      "the addition of the number by itself is: 10\n"
     ]
    }
   ],
   "source": [
    "#void function for addition\n",
    "def void_function(n):\n",
    "    add = n+n\n",
    "    print (\"the addition of the number by itself is:\",add )\n",
    "#function call\n",
    "void_function(5)"
   ]
  },
  {
   "cell_type": "code",
   "execution_count": 31,
   "metadata": {},
   "outputs": [
    {
     "output_type": "stream",
     "name": "stdout",
     "text": [
      "the maximum value is:56\n"
     ]
    }
   ],
   "source": [
    "#Built in function\n",
    "#calcuting the max of the number \n",
    "maximum = max(3,1,56,34,2)\n",
    "print(f\"the maximum value is:{maximum}\")"
   ]
  },
  {
   "cell_type": "code",
   "execution_count": 32,
   "metadata": {},
   "outputs": [
    {
     "output_type": "stream",
     "name": "stdout",
     "text": [
      "the interger number of 3.5 is 3\n"
     ]
    }
   ],
   "source": [
    "#conversion function\n",
    "#Convert the number 3.5 into an integer:\n",
    "float_number = 3.5\n",
    "interger_value = int(float_number)\n",
    "print(f\"the interger number of {float_number} is {interger_value}\")"
   ]
  },
  {
   "cell_type": "code",
   "execution_count": 33,
   "metadata": {},
   "outputs": [
    {
     "output_type": "stream",
     "name": "stdout",
     "text": [
      "min value: 5, absolute: 7.25 power:64\nThe square root is: 2.0\nThe nearest greatest value neat the interger is: 4\n"
     ]
    }
   ],
   "source": [
    "#math function\n",
    "#built in math function \n",
    "x = min(5,10,25) #calculate the minimum \n",
    "y = abs(-7.25) #finds the absolute value\n",
    "z = pow(4,3) #finds the 4^3 \n",
    "print(f'min value: {x}, absolute: {y} power:{z}')\n",
    "import math #importing math libary \n",
    "square_root = math.sqrt(4) ## Square root calculation\n",
    "print(f\"The square root is: {square_root}\")\n",
    "# ceil(x)\tReturns the smallest integer greater than or equal to x.\n",
    "print(\"The nearest greatest value neat the interger is:\",math.ceil(3.4))"
   ]
  },
  {
   "cell_type": "code",
   "execution_count": 34,
   "metadata": {},
   "outputs": [
    {
     "output_type": "stream",
     "name": "stdout",
     "text": [
      "The hihest number is:43\n"
     ]
    }
   ],
   "source": [
    "#control statement\n",
    "#finding the maximum and minimum using the if nested if else (control statement)\n",
    "#declearing variable\n",
    "number1 = 12\n",
    "number2 = 24\n",
    "number3 = 43 \n",
    "if (number1>number2):#checking condition\n",
    "    if(number1>number3):#nested control statement condition\n",
    "        print(f\"The highest number is : {number1}\")\n",
    "    else:\n",
    "        print(f\"the highest number is : {number3}\")\n",
    "else:\n",
    "    if(number3>number2): #nested if \n",
    "        print(f\"The hihest number is:{number3}\")\n",
    "    else:\n",
    "        print(f\"The highest number is:{number2}\")\n"
   ]
  },
  {
   "cell_type": "code",
   "execution_count": 35,
   "metadata": {},
   "outputs": [
    {
     "output_type": "stream",
     "name": "stdout",
     "text": [
      "h\ne\nl\nl\no\nw\n \nw\no\nr\nl\nd\n"
     ]
    }
   ],
   "source": [
    "#iteration\n",
    "s= \"hellow world\"\n",
    "for c in s:\n",
    "    print(c)\n"
   ]
  },
  {
   "cell_type": "code",
   "execution_count": 36,
   "metadata": {},
   "outputs": [
    {
     "output_type": "stream",
     "name": "stdout",
     "text": [
      "the prime number between 1 and 10 are:\n3\n5\n5\n5\n7\n7\n7\n7\n7\n9\n"
     ]
    }
   ],
   "source": [
    "#to display all prime number \n",
    "lower = 1 \n",
    "upper = 10\n",
    "print(f\"the prime number between {lower} and {upper} are:\")\n",
    "for num in range(lower, upper+1):\n",
    "    if num>1:#all prime number is greater than 1\n",
    "        for i in range(2, num):\n",
    "            if(num % i == 0):\n",
    "                break\n",
    "            else:\n",
    "                print(num)"
   ]
  },
  {
   "cell_type": "code",
   "execution_count": 37,
   "metadata": {},
   "outputs": [
    {
     "output_type": "stream",
     "name": "stdout",
     "text": [
      "Your full name is :angadlamichhane\n"
     ]
    }
   ],
   "source": [
    "#string Concatenation means addition of 2 string\n",
    "first_name = \"angad\"\n",
    "last_name = \"lamichhane\"\n",
    "fullname = first_name+last_name #concatenation of 2 strings\n",
    "print(f\"Your full name is :{fullname}\")"
   ]
  },
  {
   "cell_type": "code",
   "execution_count": 38,
   "metadata": {},
   "outputs": [
    {
     "output_type": "stream",
     "name": "stdout",
     "text": [
      "angad comes ahead of suman\n"
     ]
    }
   ],
   "source": [
    "# String comparison\n",
    "name1 = \"angad\"\n",
    "name2 = \"suman\"\n",
    "if(name1>name2):#checking the condition which comes ahead of one another\n",
    "    print(f\"{name2} comes ahead of {name1}\") #its comparing the bits of the string value so whoes bit values is greater than another one it comes behind the first one\n",
    "else:\n",
    "    print(f\"{name1} comes ahead of {name2}\")"
   ]
  },
  {
   "cell_type": "code",
   "execution_count": 39,
   "metadata": {},
   "outputs": [
    {
     "output_type": "stream",
     "name": "stdout",
     "text": [
      "the length of the string angad lamichhane is 16\n"
     ]
    }
   ],
   "source": [
    "# length od string\n",
    "string1 = \"angad lamichhane\"\n",
    "length = len(string1)#built in function to calculate the lenght of string\n",
    "print(f\"the length of the string {string1} is {length}\")"
   ]
  },
  {
   "cell_type": "code",
   "execution_count": 40,
   "metadata": {},
   "outputs": [
    {
     "output_type": "stream",
     "name": "stdout",
     "text": [
      "the first letter is  a\nthe last letter of the string is e\nThe letter in bewteen is any position called 10 c\n"
     ]
    }
   ],
   "source": [
    "#string subscript \n",
    "#in every program subscript is start with zero\n",
    "#first letter is taken by\n",
    "print(\"the first letter is \",string1[0])\n",
    "print(\"the last letter of the string is\",string1[-1])\n",
    "#any arbitary letter is \n",
    "print(\"The letter in bewteen is any position called 10\", string1[10])"
   ]
  },
  {
   "cell_type": "code",
   "execution_count": 41,
   "metadata": {},
   "outputs": [
    {
     "output_type": "stream",
     "name": "stdout",
     "text": [
      "your request word is in hello word\n"
     ]
    }
   ],
   "source": [
    "# in operator\n",
    "use_in = 'o' in 'hello world'#checking the request word is inside the word or not\n",
    "if(use_in == True):#checking for true \n",
    "    print(\"your request word is in hello word\")\n",
    "else:\n",
    "    print(\"your request word is not in hello word\")\n"
   ]
  },
  {
   "cell_type": "code",
   "execution_count": 42,
   "metadata": {},
   "outputs": [
    {
     "output_type": "stream",
     "name": "stdout",
     "text": [
      "the word o repeat for 2\nThe word python start from the 5 indices\nI am python developer\n"
     ]
    }
   ],
   "source": [
    "#String methods \n",
    "word = \"I am python developer\"\n",
    "print(f\"the word o repeat for {word.count('o')}\") #count the O occuracnce in the occurance\n",
    "print(f\"The word python start from the {word.find('python')} indices\") #search the word\n",
    "word.replace(\"python\",\"javascript\")\n",
    "print(word)"
   ]
  },
  {
   "cell_type": "code",
   "execution_count": 43,
   "metadata": {},
   "outputs": [
    {
     "output_type": "stream",
     "name": "stdout",
     "text": [
      "first 10 natural numbers are [1, 2, 3, 4, 5, 6, 7, 8, 9, 10]\nMy first name is Angad. My last_name is lamichhane\nMy unqiue id is PAS074BGE004, My roll Number is 504\n"
     ]
    }
   ],
   "source": [
    "#lists \n",
    "natural_numbers = [1,2,3,4,5,6,7,8,9,10]#defining the list of first 10 natural numbers\n",
    "print(f\"first 10 natural numbers are {natural_numbers}\")\n",
    "my_info = ['Angad','lamichhane',504,'PAS074BGE004']#list with interger and string datatype\n",
    "print(f\"My first name is {my_info[0]}. My last_name is {my_info[1]}\")\n",
    "print(f\"My unqiue id is {my_info[-1]}, My roll Number is {my_info[-2]}\")"
   ]
  },
  {
   "cell_type": "code",
   "execution_count": 44,
   "metadata": {},
   "outputs": [
    {
     "output_type": "stream",
     "name": "stdout",
     "text": [
      "empty list []\n"
     ]
    }
   ],
   "source": [
    "#empty list can also be made\n",
    "empty_list = []\n",
    "print(f\"empty list {empty_list}\")"
   ]
  },
  {
   "cell_type": "code",
   "execution_count": 45,
   "metadata": {},
   "outputs": [
    {
     "output_type": "stream",
     "name": "stdout",
     "text": [
      "The orginal numbers are [10, 20, 11, 13, 15]\nList replace after the assignement are [10, 100, 11, 13, 15]\n"
     ]
    }
   ],
   "source": [
    "#lists are mutable\n",
    "numbers = [10,20,11,13,15]\n",
    "# When the bracket operator appears on the left side of an assignment, it identifies the element of the list that will be assigned.\n",
    "print(f\"The orginal numbers are {numbers}\")\n",
    "numbers[1]=100 #assign the 100 in the 1 indices\n",
    "print(f\"List replace after the assignement are {numbers}\")\n",
    "#mutable means which can be modified later after assignement "
   ]
  },
  {
   "cell_type": "code",
   "execution_count": 46,
   "metadata": {},
   "outputs": [
    {
     "output_type": "stream",
     "name": "stdout",
     "text": [
      "The odd number is [1, 3, 5, 7, 9]\nEven numbers are: [2, 4, 6, 8]\nZero :0\n"
     ]
    }
   ],
   "source": [
    "#nested lists examples\n",
    "all_numbers = [0,[1,3,5,7,9],[2,4,6,8]]#nested list for zero, odd numbers, even numbers\n",
    "print(f\"The odd number is {all_numbers[1]}\")\n",
    "print(f\"Even numbers are: {all_numbers[2]}\")\n",
    "print(f\"Zero :{all_numbers[0]}\")"
   ]
  },
  {
   "cell_type": "code",
   "execution_count": 47,
   "metadata": {},
   "outputs": [
    {
     "output_type": "error",
     "ename": "TypeError",
     "evalue": "'str' object does not support item assignment",
     "traceback": [
      "\u001b[1;31m---------------------------------------------------------------------------\u001b[0m",
      "\u001b[1;31mTypeError\u001b[0m                                 Traceback (most recent call last)",
      "\u001b[1;32m<ipython-input-47-04c0068639eb>\u001b[0m in \u001b[0;36m<module>\u001b[1;34m\u001b[0m\n\u001b[0;32m      2\u001b[0m \u001b[1;34m'''String are immutable but the lists are mutable'''\u001b[0m\u001b[1;33m\u001b[0m\u001b[1;33m\u001b[0m\u001b[0m\n\u001b[0;32m      3\u001b[0m \u001b[0mstring\u001b[0m \u001b[1;33m=\u001b[0m \u001b[1;34m\"hello word\"\u001b[0m\u001b[1;33m\u001b[0m\u001b[1;33m\u001b[0m\u001b[0m\n\u001b[1;32m----> 4\u001b[1;33m \u001b[0mstring\u001b[0m\u001b[1;33m[\u001b[0m\u001b[1;36m1\u001b[0m\u001b[1;33m]\u001b[0m \u001b[1;33m=\u001b[0m \u001b[1;34m'a'\u001b[0m\u001b[1;31m#string is immutable beacuse it cannot changed after assignment\u001b[0m\u001b[1;33m\u001b[0m\u001b[1;33m\u001b[0m\u001b[0m\n\u001b[0m",
      "\u001b[1;31mTypeError\u001b[0m: 'str' object does not support item assignment"
     ]
    }
   ],
   "source": [
    "#comparision bewteen lists and string\n",
    "'''String are immutable but the lists are mutable'''\n",
    "string = \"hello word\"\n",
    "string[1] = 'a'#string is immutable beacuse it cannot changed after assignment\n"
   ]
  },
  {
   "cell_type": "code",
   "execution_count": 48,
   "metadata": {},
   "outputs": [
    {
     "output_type": "execute_result",
     "data": {
      "text/plain": [
       "['h', 'a', 'l', 'l', 'o', ' ', 'w', 'o', 'r', 'd']"
      ]
     },
     "metadata": {},
     "execution_count": 48
    }
   ],
   "source": [
    "lists = list(string)\n",
    "lists[1]= 'a' #string are mutable it can changed after assignement\n",
    "lists"
   ]
  },
  {
   "cell_type": "code",
   "execution_count": 49,
   "metadata": {},
   "outputs": [
    {
     "output_type": "stream",
     "name": "stdout",
     "text": [
      "Full name is Angadlamichhhane\n"
     ]
    }
   ],
   "source": [
    "'''String can be concanted using + sign while the list can add element using append method'''\n",
    "first_name = \"Angad\"\n",
    "last_name = \"lamichhhane\"\n",
    "string_concanted = first_name+last_name\n",
    "print(f'Full name is {string_concanted}')\n"
   ]
  },
  {
   "cell_type": "code",
   "execution_count": 50,
   "metadata": {},
   "outputs": [
    {
     "output_type": "stream",
     "name": "stdout",
     "text": [
      "My bio is ['angad', 'lamichhane', 504]\nMy bio update information is ['angad', 'lamichhane', 504, 'Geomatics']\n"
     ]
    }
   ],
   "source": [
    "my_bio = ['angad','lamichhane',504]\n",
    "print(f'My bio is {my_bio}')\n",
    "my_bio.append('Geomatics')\n",
    "print(f'My bio update information is {my_bio}')"
   ]
  },
  {
   "cell_type": "code",
   "execution_count": 51,
   "metadata": {},
   "outputs": [
    {
     "output_type": "execute_result",
     "data": {
      "text/plain": [
       "'append, extends, sort, sum etc '"
      ]
     },
     "metadata": {},
     "execution_count": 51
    }
   ],
   "source": [
    "#list methods \n",
    "'''append, extends, sort, sum etc '''"
   ]
  },
  {
   "cell_type": "code",
   "execution_count": 52,
   "metadata": {},
   "outputs": [
    {
     "output_type": "stream",
     "name": "stdout",
     "text": [
      "The natural numbers are : [1, 2, 3, 4, 5, 6, 7, 8, 9]\nThe natural numbers after the append methods [1, 2, 3, 4, 5, 6, 7, 8, 9, 10]\ncopy of the lists are : [1, 2, 3, 4, 5, 6, 7, 8, 9, 10]\n"
     ]
    }
   ],
   "source": [
    "natural_numbers = [1,2,3,4,5,6,7,8,9]\n",
    "print(f'The natural numbers are : {natural_numbers}')\n",
    "#append Adds an element at the end of the lists\n",
    "natural_numbers.append(10)\n",
    "print(f\"The natural numbers after the append methods {natural_numbers}\")\n",
    "#copy() returns the copy of the list\n",
    "new_numbers = natural_numbers.copy()\n",
    "print(f'copy of the lists are : {new_numbers}')"
   ]
  },
  {
   "cell_type": "code",
   "execution_count": 53,
   "metadata": {},
   "outputs": [
    {
     "output_type": "stream",
     "name": "stdout",
     "text": [
      "Natural numbers after the clear are: []\n"
     ]
    }
   ],
   "source": [
    "#clear() removes all the elements of the lists\n",
    "natural_numbers.clear()\n",
    "print(f'Natural numbers after the clear are: {natural_numbers}')"
   ]
  },
  {
   "cell_type": "code",
   "execution_count": 54,
   "metadata": {},
   "outputs": [
    {
     "output_type": "stream",
     "name": "stdout",
     "text": [
      "The number without reverse are: [-9, -8, -7, -6, -5, -4, -3, -2, -1, 0]\nThe reversed numbers are: [0, -1, -2, -3, -4, -5, -6, -7, -8, -9]\nAll numbers are : [1, 2, 3, 4, 5, 6, 7, 8, 9, 0, -1, -2, -3, -4, -5, -6, -7, -8, -9]\n"
     ]
    }
   ],
   "source": [
    "numbers = [1,2,3,4,5,6,7,8,9]\n",
    "negative_numbers = [-9,-8,-7,-6,-5,-4,-3,-2,-1,0]\n",
    "print(f'The number without reverse are: {negative_numbers}')\n",
    "# reverse is used to reverese the order of the list \n",
    "negative_numbers.reverse()\n",
    "print(f'The reversed numbers are: {negative_numbers}')\n",
    "#extends() add the elements of the list, to the end of the current list\n",
    "numbers.extend(negative_numbers)\n",
    "print(f\"All numbers are : {numbers}\")"
   ]
  },
  {
   "cell_type": "code",
   "execution_count": null,
   "metadata": {},
   "outputs": [],
   "source": [
    "#logical errors\n",
    "word = 'Angad'\n",
    "w = len(word)#calculting the length of the string\n",
    "print(f'The length of the string is {w}')\n",
    "while(w>=0):#checking the condition upto where the while loop is to run\n",
    "    l=0\n",
    "    print(word[l])\n",
    "    l+=1\n",
    "    w-=1"
   ]
  },
  {
   "cell_type": "code",
   "execution_count": 55,
   "metadata": {},
   "outputs": [
    {
     "output_type": "stream",
     "name": "stdout",
     "text": [
      "we run into the problem, please check your internet connection\n"
     ]
    }
   ],
   "source": [
    "#exceptions\n",
    "import urllib3 #importing the python module\n",
    "url = 'https://www.angadlamichhane.com.np/' #serching for the url\n",
    "try:\n",
    "    req = urllib3.request(url) #trying to get https request from the server\n",
    "    response = urllib3.urlopen(req) #after the sucessful of the request trying to open the url\n",
    "    page = response.read() #reading the html content\n",
    "    print(page) #displaying the content\n",
    "except:\n",
    "    print (\"we run into the problem, please check your internet connection\")"
   ]
  },
  {
   "cell_type": "code",
   "execution_count": 56,
   "metadata": {},
   "outputs": [
    {
     "output_type": "stream",
     "name": "stdout",
     "text": [
      "My name is Angad and my age is 23\n"
     ]
    }
   ],
   "source": [
    "#object oriented programming example \n",
    "class Student: #defines class\n",
    "    def __init__(self,name,age): #specify this belogs to dog class like constructor in c++ also called as instance attributes\n",
    "        self.name = name #creates an attribute called name and assigns to it the value od the name parameter\n",
    "        self.age = age\n",
    "    \n",
    "buddy = Student(\"Buddy\",19) #instances of the student class\n",
    "angad = Student(\"Angad\",23)\n",
    "print(f'My name is {angad.name} and my age is {angad.age}') #assessing rhe "
   ]
  },
  {
   "cell_type": "code",
   "execution_count": 57,
   "metadata": {},
   "outputs": [
    {
     "output_type": "stream",
     "name": "stdout",
     "text": [
      "Interger:24, Float:24.3, Complex number:(2+3j)\n"
     ]
    }
   ],
   "source": [
    "#Literals \n",
    "#Numeric literals\n",
    "x = 24 #interger literals\n",
    "y = 24.3 #float literals\n",
    "z = 2+3j #complex literas\n",
    "print(f'Interger:{x}, Float:{y}, Complex number:{z}')"
   ]
  },
  {
   "cell_type": "code",
   "execution_count": 58,
   "metadata": {},
   "outputs": [
    {
     "output_type": "stream",
     "name": "stdout",
     "text": [
      "I am angad Lamichhane written in single quote.\n I am angad lamichhane written in double quote.\n\n"
     ]
    }
   ],
   "source": [
    "#string literals \n",
    "#in single quote\n",
    "s = 'I am angad Lamichhane written in single quote.'\n",
    "# in double quote\n",
    "d = \" I am angad lamichhane written in double quote.\"\n",
    "# in triple quote (multi-line string)\n",
    "m = '''\n",
    "I am angad lamichhane,\n",
    "        written in triple quote.\n",
    "'''\n",
    "print(s)\n",
    "print(d)\n",
    "print()"
   ]
  },
  {
   "cell_type": "code",
   "execution_count": 59,
   "metadata": {},
   "outputs": [
    {
     "output_type": "execute_result",
     "data": {
      "text/plain": [
       "('apple', 'banana', 'chhery')"
      ]
     },
     "metadata": {},
     "execution_count": 59
    }
   ],
   "source": [
    "#create of the tuple :\n",
    "thistuple = ('apple','banana', 'chhery')\n",
    "thistuple"
   ]
  },
  {
   "cell_type": "code",
   "execution_count": 60,
   "metadata": {},
   "outputs": [
    {
     "output_type": "execute_result",
     "data": {
      "text/plain": [
       "('apple', 'banana', 'chhery', 'apple', 'chhery')"
      ]
     },
     "metadata": {},
     "execution_count": 60
    }
   ],
   "source": [
    "#tuples allow the duplicate values \n",
    "thistuple = ('apple','banana','chhery','apple','chhery')\n",
    "thistuple"
   ]
  },
  {
   "cell_type": "code",
   "execution_count": 61,
   "metadata": {},
   "outputs": [
    {
     "output_type": "execute_result",
     "data": {
      "text/plain": [
       "{'apple', 'banana', 'chhery'}"
      ]
     },
     "metadata": {},
     "execution_count": 61
    }
   ],
   "source": [
    "#create of sets\n",
    "thisset = {'apple','banana','chhery'}\n",
    "thisset"
   ]
  },
  {
   "cell_type": "code",
   "execution_count": 62,
   "metadata": {},
   "outputs": [],
   "source": [
    "#duplicate value are ignored\n",
    "thisset = {'apple','banana','chhery','apple'}"
   ]
  },
  {
   "cell_type": "code",
   "execution_count": 63,
   "metadata": {},
   "outputs": [
    {
     "output_type": "stream",
     "name": "stdout",
     "text": [
      "not overlapping\nnot overlapping\nnot overlapping\nnot overlapping\nnot overlapping\n"
     ]
    }
   ],
   "source": [
    "#python program to illustrate finding common members in list using in operator\n",
    "list1 = [1,2,3,4,5]\n",
    "list2 = [6,7,8,9]\n",
    "for item in list1:\n",
    "    if item in list2:\n",
    "        print (\"overlapping\")\n",
    "    else:\n",
    "        print(\"not overlapping\")"
   ]
  },
  {
   "cell_type": "code",
   "execution_count": null,
   "metadata": {},
   "outputs": [],
   "source": []
  }
 ]
}