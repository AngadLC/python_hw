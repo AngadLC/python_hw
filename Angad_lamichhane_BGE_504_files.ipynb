{
 "metadata": {
  "language_info": {
   "codemirror_mode": {
    "name": "ipython",
    "version": 3
   },
   "file_extension": ".py",
   "mimetype": "text/x-python",
   "name": "python",
   "nbconvert_exporter": "python",
   "pygments_lexer": "ipython3",
   "version": "3.8.10"
  },
  "orig_nbformat": 4,
  "kernelspec": {
   "name": "python3",
   "display_name": "Python 3.8.10 64-bit ('multi_hazard': conda)"
  },
  "interpreter": {
   "hash": "e7737193247f8cd527e7b2a32c0768f828a48e8b8ab488542cdf1ed9d74bd861"
  }
 },
 "nbformat": 4,
 "nbformat_minor": 2,
 "cells": [
  {
   "cell_type": "code",
   "execution_count": 1,
   "metadata": {},
   "outputs": [
    {
     "output_type": "execute_result",
     "data": {
      "text/plain": [
       "'ANGAD lAMICHHANE PAS074BGE004'"
      ]
     },
     "metadata": {},
     "execution_count": 1
    }
   ],
   "source": [
    "'''ANGAD lAMICHHANE PAS074BGE004'''"
   ]
  },
  {
   "cell_type": "code",
   "execution_count": 2,
   "metadata": {},
   "outputs": [
    {
     "output_type": "execute_result",
     "data": {
      "text/plain": [
       "'Files'"
      ]
     },
     "metadata": {},
     "execution_count": 2
    }
   ],
   "source": [
    "'''Files'''"
   ]
  },
  {
   "cell_type": "code",
   "execution_count": 3,
   "metadata": {},
   "outputs": [],
   "source": [
    "#importing modules\n",
    "import os #operating system module\n",
    "import shutil #This module helps in automating process of copying and removal of files and directories."
   ]
  },
  {
   "cell_type": "code",
   "execution_count": 4,
   "metadata": {},
   "outputs": [
    {
     "output_type": "stream",
     "name": "stdout",
     "text": [
      "The current directory is: f:\\7th sem\\application of GIS with python\\hw\\python_hw\n"
     ]
    }
   ],
   "source": [
    "#get the current working dir\n",
    "cwd = os.getcwd()\n",
    "print(f\"The current directory is: {cwd}\")"
   ]
  },
  {
   "cell_type": "code",
   "execution_count": 5,
   "metadata": {},
   "outputs": [
    {
     "output_type": "execute_result",
     "data": {
      "text/plain": [
       "True"
      ]
     },
     "metadata": {},
     "execution_count": 5
    }
   ],
   "source": [
    "#os module to check path exists or not\n",
    "os.path.exists(r'f:/7th sem/application of GIS with python/hw/python_hw')"
   ]
  },
  {
   "cell_type": "code",
   "execution_count": 6,
   "metadata": {},
   "outputs": [
    {
     "output_type": "execute_result",
     "data": {
      "text/plain": [
       "True"
      ]
     },
     "metadata": {},
     "execution_count": 6
    }
   ],
   "source": [
    "#.isdir to check wether the dir exit or not\n",
    "os.path.isdir(r'F:\\7th sem\\final year\\multi_hazard_risk_assessment')"
   ]
  },
  {
   "cell_type": "code",
   "execution_count": 7,
   "metadata": {},
   "outputs": [
    {
     "output_type": "execute_result",
     "data": {
      "text/plain": [
       "False"
      ]
     },
     "metadata": {},
     "execution_count": 7
    }
   ],
   "source": [
    "#.isfile checks wheather exits or not\n",
    "os.path.isfile(\"angadlamichhane.py\")#checks in the current dir"
   ]
  },
  {
   "cell_type": "code",
   "execution_count": 8,
   "metadata": {},
   "outputs": [
    {
     "output_type": "execute_result",
     "data": {
      "text/plain": [
       "['.git',\n",
       " '504_AngadLamichhane_ch1-5.ipynb',\n",
       " '504_AngadLamichhane_Dictionary.ipynb',\n",
       " 'Angad_lamichhane_BGE_504_files.ipynb',\n",
       " 'output.txt',\n",
       " 'words.txt',\n",
       " 'write.txt']"
      ]
     },
     "metadata": {},
     "execution_count": 8
    }
   ],
   "source": [
    "#listdir is used to list the all the directiory\n",
    "os.listdir(cwd)# its return all files in the directory in the python lists "
   ]
  },
  {
   "cell_type": "code",
   "execution_count": 9,
   "metadata": {},
   "outputs": [
    {
     "output_type": "stream",
     "name": "stdout",
     "text": [
      "<_io.TextIOWrapper name='write.txt' mode='r' encoding='cp1252'>\n"
     ]
    }
   ],
   "source": [
    "#opening the python file\n",
    "fin= open('write.txt') #takes the file name as parameter and return a file object\n",
    "print(fin) #open in defult 'r' mode "
   ]
  },
  {
   "cell_type": "code",
   "execution_count": 10,
   "metadata": {},
   "outputs": [
    {
     "output_type": "error",
     "ename": "FileNotFoundError",
     "evalue": "[Errno 2] No such file or directory: 'file.txt'",
     "traceback": [
      "\u001b[1;31m---------------------------------------------------------------------------\u001b[0m",
      "\u001b[1;31mFileNotFoundError\u001b[0m                         Traceback (most recent call last)",
      "\u001b[1;32m<ipython-input-10-7a051466fbd0>\u001b[0m in \u001b[0;36m<module>\u001b[1;34m\u001b[0m\n\u001b[1;32m----> 1\u001b[1;33m \u001b[0mfin\u001b[0m \u001b[1;33m=\u001b[0m \u001b[0mopen\u001b[0m\u001b[1;33m(\u001b[0m\u001b[1;34m'file.txt'\u001b[0m\u001b[1;33m)\u001b[0m\u001b[1;33m\u001b[0m\u001b[1;33m\u001b[0m\u001b[0m\n\u001b[0m\u001b[0;32m      2\u001b[0m \u001b[0mprint\u001b[0m\u001b[1;33m(\u001b[0m\u001b[0mfin\u001b[0m\u001b[1;33m)\u001b[0m\u001b[1;31m#error if the file does not exist\u001b[0m\u001b[1;33m\u001b[0m\u001b[1;33m\u001b[0m\u001b[0m\n",
      "\u001b[1;31mFileNotFoundError\u001b[0m: [Errno 2] No such file or directory: 'file.txt'"
     ]
    }
   ],
   "source": [
    "fin = open('file.txt')\n",
    "print(fin)#error if the file does not exist"
   ]
  },
  {
   "cell_type": "code",
   "execution_count": 27,
   "metadata": {},
   "outputs": [
    {
     "output_type": "stream",
     "name": "stdout",
     "text": [
      "<_io.TextIOWrapper name='words.txt' mode='r' encoding='cp1252'>\n"
     ]
    }
   ],
   "source": [
    "#reading file \n",
    "fin = open('words.txt') #opening write.txt file in default mode i.e read mode\n",
    "print(fin) #return  fileobject"
   ]
  },
  {
   "cell_type": "code",
   "execution_count": 28,
   "metadata": {},
   "outputs": [
    {
     "output_type": "execute_result",
     "data": {
      "text/plain": [
       "'aa\\n'"
      ]
     },
     "metadata": {},
     "execution_count": 28
    }
   ],
   "source": [
    "#readline()\tReturns one line from the file\n",
    "fin.readline() #reads first line aa"
   ]
  },
  {
   "cell_type": "code",
   "execution_count": 29,
   "metadata": {},
   "outputs": [
    {
     "output_type": "execute_result",
     "data": {
      "text/plain": [
       "'aah\\n'"
      ]
     },
     "metadata": {},
     "execution_count": 29
    }
   ],
   "source": [
    "#readline methods keeps track of its one \n",
    "#if we call again it returns 2nd line\n",
    "fin.readline()"
   ]
  },
  {
   "cell_type": "code",
   "execution_count": 30,
   "metadata": {},
   "outputs": [
    {
     "output_type": "stream",
     "name": "stdout",
     "text": [
      "Line without the special character: aahed\n"
     ]
    }
   ],
   "source": [
    "one_line = fin.readline()\n",
    "line = one_line.strip() #removes any spaces or special characters at the start and end of a string\n",
    "print(f\"Line without the special character: {line}\")"
   ]
  },
  {
   "cell_type": "code",
   "execution_count": 31,
   "metadata": {
    "tags": []
   },
   "outputs": [
    {
     "output_type": "stream",
     "name": "stdout",
     "text": [
      "aahing\naahs\naal\naalii\naaliis\naals\naardvark\naardvarks\naardwolf\naardwolves\naas\naasvogel\naasvogels\na\n\ncollectors\ncollects\ncolleen\ncolleens\ncollege\ncolleger\ncollegers\ncolleges\ncollegiac\n\n"
     ]
    }
   ],
   "source": [
    "for line in fin: #loop through all words in file and assign value to line variable\n",
    "    word = line.strip() #removes spaces and special character\n",
    "    print(word)"
   ]
  },
  {
   "cell_type": "code",
   "execution_count": 16,
   "metadata": {},
   "outputs": [
    {
     "output_type": "stream",
     "name": "stdout",
     "text": [
      "<_io.TextIOWrapper name='output.txt' mode='w' encoding='cp1252'>\n"
     ]
    }
   ],
   "source": [
    "fout = open(\"output.txt\",mode='w')# Opens a file for writing, creates the file if it does not exist\n",
    "print(fout)"
   ]
  },
  {
   "cell_type": "code",
   "execution_count": 17,
   "metadata": {},
   "outputs": [],
   "source": [
    "first_line = \"Hi i am angad lamichhane writing the first line in this file. \\n \"\n",
    "fout.write(first_line)#write methods Writes the specified string to the file\n",
    "fout.close()#close the file"
   ]
  },
  {
   "cell_type": "code",
   "execution_count": 18,
   "metadata": {},
   "outputs": [
    {
     "output_type": "execute_result",
     "data": {
      "text/plain": [
       "'Formate operator in python 3'"
      ]
     },
     "metadata": {},
     "execution_count": 18
    }
   ],
   "source": [
    "'''Formate operator in python 3'''\n"
   ]
  },
  {
   "cell_type": "code",
   "execution_count": 19,
   "metadata": {},
   "outputs": [
    {
     "output_type": "stream",
     "name": "stdout",
     "text": [
      "The value assign to the google is 99123\nThe value assign to the google is 99123\n"
     ]
    }
   ],
   "source": [
    "google = 99123 #assign value to variable\n",
    "print('The value assign to the google is {}'.format(google))#formate opeator to print value\n",
    "#this can be also written as\n",
    "print(f'The value assign to the google is {google}')"
   ]
  },
  {
   "cell_type": "code",
   "execution_count": 20,
   "metadata": {},
   "outputs": [
    {
     "output_type": "stream",
     "name": "stdout",
     "text": [
      "The number equivalent to google is 99123\n"
     ]
    }
   ],
   "source": [
    "print(f'The number equivalent to google is {google}')"
   ]
  },
  {
   "cell_type": "code",
   "execution_count": 21,
   "metadata": {},
   "outputs": [
    {
     "output_type": "stream",
     "name": "stdout",
     "text": [
      "The integer value is 112, Float value is 112.112, The string value is Hi i am string\n"
     ]
    }
   ],
   "source": [
    "#for intergers, float ,string\n",
    "interger_value = 112\n",
    "float_value = 112.112\n",
    "string_value = 'Hi i am string'\n",
    "print(f'The integer value is {interger_value}, Float value is {float_value}, The string value is {string_value}') #new formatting style in python3 f method"
   ]
  },
  {
   "cell_type": "code",
   "execution_count": 22,
   "metadata": {},
   "outputs": [
    {
     "output_type": "stream",
     "name": "stdout",
     "text": [
      "Something went wrong \n"
     ]
    }
   ],
   "source": [
    "#try expect in python \n",
    "try:\n",
    "    fin = open('bad_file') #trying to open fie\n",
    "    for line in fin: \n",
    "        print(line) #print line by line if there is any statement in the file\n",
    "    fin.close() #closing file\n",
    "except: #if file cannot open sucessfully \n",
    "    print(\"Something went wrong \") #telling user there is some things have gone error"
   ]
  },
  {
   "cell_type": "code",
   "execution_count": 23,
   "metadata": {},
   "outputs": [
    {
     "output_type": "stream",
     "name": "stdout",
     "text": [
      "f:\\7th sem\\application of GIS with python\\hw\\python_hw\\.git\\config\nf:\\7th sem\\application of GIS with python\\hw\\python_hw\\.git\\description\nf:\\7th sem\\application of GIS with python\\hw\\python_hw\\.git\\HEAD\nf:\\7th sem\\application of GIS with python\\hw\\python_hw\\.git\\hooks\\applypatch-msg.sample\nf:\\7th sem\\application of GIS with python\\hw\\python_hw\\.git\\hooks\\commit-msg.sample\nf:\\7th sem\\application of GIS with python\\hw\\python_hw\\.git\\hooks\\fsmonitor-watchman.sample\nf:\\7th sem\\application of GIS with python\\hw\\python_hw\\.git\\hooks\\post-update.sample\nf:\\7th sem\\application of GIS with python\\hw\\python_hw\\.git\\hooks\\pre-applypatch.sample\nf:\\7th sem\\application of GIS with python\\hw\\python_hw\\.git\\hooks\\pre-commit.sample\nf:\\7th sem\\application of GIS with python\\hw\\python_hw\\.git\\hooks\\pre-merge-commit.sample\nf:\\7th sem\\application of GIS with python\\hw\\python_hw\\.git\\hooks\\pre-push.sample\nf:\\7th sem\\application of GIS with python\\hw\\python_hw\\.git\\hooks\\pre-rebase.sample\nf:\\7th sem\\application of GIS with python\\hw\\python_hw\\.git\\hooks\\pre-receive.sample\nf:\\7th sem\\application of GIS with python\\hw\\python_hw\\.git\\hooks\\prepare-commit-msg.sample\nf:\\7th sem\\application of GIS with python\\hw\\python_hw\\.git\\hooks\\update.sample\nf:\\7th sem\\application of GIS with python\\hw\\python_hw\\.git\\index\nf:\\7th sem\\application of GIS with python\\hw\\python_hw\\.git\\info\\exclude\nf:\\7th sem\\application of GIS with python\\hw\\python_hw\\.git\\logs\\HEAD\nf:\\7th sem\\application of GIS with python\\hw\\python_hw\\.git\\logs\\refs\\heads\\main\nf:\\7th sem\\application of GIS with python\\hw\\python_hw\\.git\\logs\\refs\\remotes\\origin\\HEAD\nf:\\7th sem\\application of GIS with python\\hw\\python_hw\\.git\\objects\\pack\\pack-c791f5c642082c1f468a0e475eb1092a78e18d7a.idx\nf:\\7th sem\\application of GIS with python\\hw\\python_hw\\.git\\objects\\pack\\pack-c791f5c642082c1f468a0e475eb1092a78e18d7a.pack\nf:\\7th sem\\application of GIS with python\\hw\\python_hw\\.git\\packed-refs\nf:\\7th sem\\application of GIS with python\\hw\\python_hw\\.git\\refs\\heads\\main\nf:\\7th sem\\application of GIS with python\\hw\\python_hw\\.git\\refs\\remotes\\origin\\HEAD\nf:\\7th sem\\application of GIS with python\\hw\\python_hw\\504_AngadLamichhane_ch1-5.ipynb\nf:\\7th sem\\application of GIS with python\\hw\\python_hw\\504_AngadLamichhane_Dictionary.ipynb\nf:\\7th sem\\application of GIS with python\\hw\\python_hw\\Angad_lamichhane_BGE_504_files.ipynb\nf:\\7th sem\\application of GIS with python\\hw\\python_hw\\output.txt\nf:\\7th sem\\application of GIS with python\\hw\\python_hw\\words.txt\nf:\\7th sem\\application of GIS with python\\hw\\python_hw\\write.txt\n"
     ]
    }
   ],
   "source": [
    "#The following example “walks” through a directory, prints the names of all the files, and calls itself \n",
    "#recursively on all the directories.\n",
    "import os\n",
    "def walk(dir):\n",
    "    for name in os.listdir(dir):\n",
    "        path = os.path.join(dir,name)\n",
    "        \n",
    "        if os.path.isfile(path):\n",
    "            print (path)\n",
    "        else:\n",
    "            walk(path)\n",
    "cwd = os.getcwd()\n",
    "walk(cwd)"
   ]
  },
  {
   "cell_type": "code",
   "execution_count": 25,
   "metadata": {},
   "outputs": [
    {
     "output_type": "stream",
     "name": "stdout",
     "text": [
      "File copied successfully.\n"
     ]
    }
   ],
   "source": [
    "\n",
    "# Source path\n",
    "source = r\"F:\\7th sem\\application of GIS with python\\hw\\python_hw\\words.txt\"\n",
    " \n",
    "# Destination path\n",
    "destination = r\"C:\\Users\\Dell\\Desktop\\words.txt\"\n",
    " \n",
    "# Copy the content of\n",
    "# source to destination\n",
    " \n",
    "try:\n",
    "    shutil.copy(source, destination)\n",
    "    print(\"File copied successfully.\")\n",
    " \n",
    "# If source and destination are same\n",
    "except shutil.SameFileError:\n",
    "    print(\"Source and destination represents the same file.\")\n",
    " \n",
    "# If there is any permission issue\n",
    "except PermissionError:\n",
    "    print(\"Permission denied.\")\n",
    " \n",
    "# For other errors\n",
    "except:\n",
    "    print(\"Error occurred while copying file.\")"
   ]
  },
  {
   "cell_type": "code",
   "execution_count": 26,
   "metadata": {},
   "outputs": [
    {
     "output_type": "stream",
     "name": "stdout",
     "text": [
      "Before moving file:\n['Abstract.docx', 'Angad Lamichhane (AutoRecovered).docx', 'AngadCV.pdf', 'angadlamichhane_4_Python_HW!.ipynb', 'angadlamichhane_4_Python_HW1.ipynb', 'Angad_Cover_letter.pdf', 'binita slide [Autosaved].pptx', 'binita slide.pptx', 'BlueStacksInstaller_5.0.230.1003_native_eab670cf275fbd8b1d428f37707e04c7_0.exe', 'Decision Matrix.xlsx', 'desktop.ini', 'dictionarypratical.ipynb', 'DSC_0423.JPG', 'hw', 'image.jpg', 'INTERNATIONAL COUNCIL OF MIDWIFERY(ICM).pptx', 'kmsauto-net-2015-v1.4.0-portable', 'multi-hazard risk assessment abstract.pdf', 'New Text Document.txt', 'Office 2016 KMS Activator Ultimate 1.2 Portable', 'office2016.cmd', 'screencapture-localhost-8888-notebooks-ev-ipynb-2021-06-27-09_49_43.pdf', 'WindowsPCHealthCheckSetup.msi', 'words.txt', '~$binita slide.pptx', '~$gad Lamichhane (AutoRecovered).docx', '~$Multi-hazard disaster management.pptx', '~WRL0810.tmp']\nAfter moving file:\n['Abstract.docx', 'Angad Lamichhane (AutoRecovered).docx', 'AngadCV.pdf', 'angadlamichhane_4_Python_HW!.ipynb', 'angadlamichhane_4_Python_HW1.ipynb', 'Angad_Cover_letter.pdf', 'binita slide [Autosaved].pptx', 'binita slide.pptx', 'BlueStacksInstaller_5.0.230.1003_native_eab670cf275fbd8b1d428f37707e04c7_0.exe', 'Decision Matrix.xlsx', 'desktop.ini', 'dictionarypratical.ipynb', 'DSC_0423.JPG', 'hw', 'image.jpg', 'INTERNATIONAL COUNCIL OF MIDWIFERY(ICM).pptx', 'kmsauto-net-2015-v1.4.0-portable', 'multi-hazard risk assessment abstract.pdf', 'New Text Document.txt', 'Office 2016 KMS Activator Ultimate 1.2 Portable', 'office2016.cmd', 'screencapture-localhost-8888-notebooks-ev-ipynb-2021-06-27-09_49_43.pdf', 'WindowsPCHealthCheckSetup.msi', '~$binita slide.pptx', '~$gad Lamichhane (AutoRecovered).docx', '~$Multi-hazard disaster management.pptx', '~WRL0810.tmp']\nDestination path: C:\\Users\\Dell\\Documents\\words.txt\n"
     ]
    }
   ],
   "source": [
    "# path\n",
    "path =r\"C:\\Users\\Dell\\Desktop\"\n",
    "\n",
    "# List files and directories\n",
    "# in 'C:\\Users\\Dell\\Desktop\\'\n",
    "print(\"Before moving file:\")\n",
    "print(os.listdir(path))\n",
    "# Source path\n",
    "source = r\"C:\\Users\\Dell\\Desktop\\words.txt\"\n",
    "\n",
    "# Destination path\n",
    "destination = r\"C:\\Users\\Dell\\Documents\"\n",
    "\n",
    "# Move the content of\n",
    "# source to destination\n",
    "dest = shutil.move(source, destination)\n",
    "\n",
    "# List files and directories\n",
    "# in \"C:\\Users\\Dell\\Desktop\\\"\n",
    "print(\"After moving file:\")\n",
    "print(os.listdir(path))\n",
    "\n",
    "# Print path of newly\n",
    "# created file\n",
    "print(\"Destination path:\", dest)\n"
   ]
  }
 ]
}