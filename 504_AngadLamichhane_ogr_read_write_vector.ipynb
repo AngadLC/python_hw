{
    "cells": [
        {
            "cell_type": "code",
            "execution_count": 1,
            "source": [
                "#importing system and gdal/ogr module\r\n",
                "import sys\r\n",
                "from osgeo import ogr #importing ogr module from osgeo package"
            ],
            "outputs": [],
            "metadata": {}
        },
        {
            "cell_type": "code",
            "execution_count": 2,
            "source": [
                "#file location \r\n",
                "file_location = r'D:\\Geoclass\\7th sem\\7th sem\\application of GIS with python\\hw\\python_hw\\fire_location.shp'\r\n",
                "fn = ogr.Open(file_location,0)#opening shapefile in read mode using ogr module\r\n",
                "if fn is None:\r\n",
                "    sys.exit(\"this file {0} cannot open using gdal driver\".format(fn))"
            ],
            "outputs": [],
            "metadata": {}
        },
        {
            "cell_type": "code",
            "execution_count": 3,
            "source": [
                "#getting first layer\r\n",
                "lyr = fn.GetLayer(0)\r\n",
                "#validing the geometry type\r\n",
                "geomtype = lyr.GetGeomType()\r\n",
                "print(f'The geomtery type of feature is {geomtype}') \r\n",
                "#prints the numerical value 1 is for point types\r\n"
            ],
            "outputs": [
                {
                    "output_type": "stream",
                    "name": "stdout",
                    "text": [
                        "The geomtery type of feature is 1\n"
                    ]
                }
            ],
            "metadata": {}
        },
        {
            "cell_type": "code",
            "execution_count": 4,
            "source": [
                "i=0\r\n",
                "for feature in lyr:\r\n",
                "    pt = feature.geometry() #getting the geometry from feature\r\n",
                "    x = pt.GetX() #getting x coordinate\r\n",
                "    y = pt.GetY()\r\n",
                "    #retriving the attribute value\r\n",
                "    instrument_name = feature.GetField('INSTRUMENT')\r\n",
                "    scan = feature.GetField('SATELLITE')\r\n",
                "    #printing value\r\n",
                "    print(f'Name of instrument {instrument_name}, name of scanner_used {scan}, x,y coordineate {x} {y}')\r\n",
                "    if (i>=10):\r\n",
                "        break #printing only first 10 data\r\n",
                "    i += 1"
            ],
            "outputs": [
                {
                    "output_type": "stream",
                    "name": "stdout",
                    "text": [
                        "Name of instrument MODIS, name of scanner_used Terra, x,y coordineate 83.8918 28.529\n",
                        "Name of instrument MODIS, name of scanner_used Terra, x,y coordineate 84.9761 28.2561\n",
                        "Name of instrument MODIS, name of scanner_used Terra, x,y coordineate 84.8402 28.3396\n",
                        "Name of instrument MODIS, name of scanner_used Terra, x,y coordineate 84.8226 28.2164\n",
                        "Name of instrument MODIS, name of scanner_used Terra, x,y coordineate 84.807 28.4474\n",
                        "Name of instrument MODIS, name of scanner_used Terra, x,y coordineate 85.0 28.3652\n",
                        "Name of instrument MODIS, name of scanner_used Terra, x,y coordineate 84.8406 28.3779\n",
                        "Name of instrument MODIS, name of scanner_used Terra, x,y coordineate 84.9507 28.3886\n",
                        "Name of instrument MODIS, name of scanner_used Terra, x,y coordineate 84.7901 28.3172\n",
                        "Name of instrument MODIS, name of scanner_used Terra, x,y coordineate 84.4653 28.4087\n",
                        "Name of instrument MODIS, name of scanner_used Terra, x,y coordineate 84.4805 28.4061\n"
                    ]
                }
            ],
            "metadata": {}
        },
        {
            "cell_type": "code",
            "execution_count": 5,
            "source": [
                "'''Writing the vector data'''"
            ],
            "outputs": [
                {
                    "output_type": "execute_result",
                    "data": {
                        "text/plain": [
                            "'Writing the vector data'"
                        ]
                    },
                    "metadata": {},
                    "execution_count": 5
                }
            ],
            "metadata": {}
        },
        {
            "cell_type": "code",
            "execution_count": 34,
            "source": [
                "fn = r'D:\\Geoclass\\7th sem\\7th sem\\application of GIS with python\\hw\\python_hw'\r\n",
                "#read the folder\r\n",
                "ds = ogr.Open(fn,1)\r\n",
                "if ds is None:\r\n",
                " sys.exit('Could not open folder.')"
            ],
            "outputs": [],
            "metadata": {}
        },
        {
            "cell_type": "code",
            "execution_count": 35,
            "source": [
                "# Get the input shapefile\r\n",
                "in_lyr = ds.GetLayer('fire_location')\r\n",
                "print(in_lyr)"
            ],
            "outputs": [
                {
                    "output_type": "stream",
                    "name": "stdout",
                    "text": [
                        "<osgeo.ogr.Layer; proxy of <Swig Object of type 'OGRLayerShadow *' at 0x0000023596683270> >\n"
                    ]
                }
            ],
            "metadata": {}
        },
        {
            "cell_type": "code",
            "execution_count": 37,
            "source": [
                "\r\n",
                "# Create a point layer\r\n",
                "if ds.GetLayer('NEPAL'): #creating nepal new layer\r\n",
                "    ds.DeleteLayer('NEPAL') #deleting the layer is already exits\r\n",
                "out_lyr = ds.CreateLayer('NEPAL',\r\n",
                "                        in_lyr.GetSpatialRef(),\r\n",
                "                        ogr.wkbPoint)\r\n",
                "#returns the same attribute table defination as the input as\r\n",
                "out_lyr.CreateFields(in_lyr.schema) \r\n",
                "\r\n",
                "# Create a blank feature\r\n",
                "out_defn = out_lyr.GetLayerDefn()\r\n",
                "out_feat = ogr.Feature(out_defn)\r\n",
                "\r\n",
                "for in_feat in in_lyr:\r\n",
                "    if in_feat.GetField('INSTRUMENT') == 'MODIS':\r\n",
                "\r\n",
                "        # Copy geometry and attributes\r\n",
                "        geom = in_feat.geometry()\r\n",
                "        out_feat.SetGeometry(geom)\r\n",
                "        for i in range(in_feat.GetFieldCount()):\r\n",
                "            value = in_feat.GetField(i)\r\n",
                "            out_feat.SetField(i, value)\r\n",
                "\r\n",
                "        # Insert the feature\r\n",
                "        out_lyr.CreateFeature(out_feat)\r\n",
                "\r\n",
                "# Close files\r\n",
                "del ds"
            ],
            "outputs": [],
            "metadata": {}
        }
    ],
    "metadata": {
        "orig_nbformat": 4,
        "language_info": {
            "name": "python",
            "version": "3.9.2",
            "mimetype": "text/x-python",
            "codemirror_mode": {
                "name": "ipython",
                "version": 3
            },
            "pygments_lexer": "ipython3",
            "nbconvert_exporter": "python",
            "file_extension": ".py"
        },
        "kernelspec": {
            "name": "python3",
            "display_name": "Python 3.9.2 64-bit ('last': conda)"
        },
        "interpreter": {
            "hash": "818e94800117f6058f452cb734fafb70ed00fce0325d972656f683ba1085bed3"
        }
    },
    "nbformat": 4,
    "nbformat_minor": 2
}