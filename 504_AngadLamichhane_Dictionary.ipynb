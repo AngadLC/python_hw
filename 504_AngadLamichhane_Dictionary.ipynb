{
 "metadata": {
  "language_info": {
   "codemirror_mode": {
    "name": "ipython",
    "version": 3
   },
   "file_extension": ".py",
   "mimetype": "text/x-python",
   "name": "python",
   "nbconvert_exporter": "python",
   "pygments_lexer": "ipython3",
   "version": "3.8.5"
  },
  "orig_nbformat": 2,
  "kernelspec": {
   "name": "python3",
   "display_name": "Python 3.8.5 64-bit ('base': conda)"
  },
  "interpreter": {
   "hash": "b3ba2566441a7c06988d0923437866b63cedc61552a5af99d1f4fb67d367b25f"
  }
 },
 "nbformat": 4,
 "nbformat_minor": 2,
 "cells": [
  {
   "cell_type": "code",
   "execution_count": 1,
   "metadata": {},
   "outputs": [
    {
     "output_type": "execute_result",
     "data": {
      "text/plain": [
       "'Name:- Angad Lamichhane\\nROll:- PAS074BGE004 Subject:- Dictionary_lab'"
      ]
     },
     "metadata": {},
     "execution_count": 1
    }
   ],
   "source": [
    "'''Name:- Angad Lamichhane\n",
    "ROll:- PAS074BGE004 LAB:- Dictionary_lab    '''"
   ]
  },
  {
   "cell_type": "code",
   "execution_count": 2,
   "metadata": {},
   "outputs": [
    {
     "output_type": "execute_result",
     "data": {
      "text/plain": [
       "{}"
      ]
     },
     "metadata": {},
     "execution_count": 2
    }
   ],
   "source": [
    "#creation of dictionary\n",
    "#creation of empty dictionary\n",
    "eng2sp = dict()\n",
    "eng2sp"
   ]
  },
  {
   "cell_type": "code",
   "execution_count": 3,
   "metadata": {},
   "outputs": [
    {
     "output_type": "execute_result",
     "data": {
      "text/plain": [
       "{'name': 'Angad Lamichhane', 'Roll': 504, 'Subject': 'Geomatics'}"
      ]
     },
     "metadata": {},
     "execution_count": 3
    }
   ],
   "source": [
    "#creation of key value pair\n",
    "student = {\n",
    "    'name':\"Angad Lamichhane\",\n",
    "    'Roll':504\n",
    "} \n",
    "student['Subject']=\"Geomatics\" #adding the key value pair\n",
    "student #printing the student dictionary"
   ]
  },
  {
   "cell_type": "code",
   "execution_count": 4,
   "metadata": {},
   "outputs": [
    {
     "output_type": "execute_result",
     "data": {
      "text/plain": [
       "504"
      ]
     },
     "metadata": {},
     "execution_count": 4
    }
   ],
   "source": [
    "student['Roll'] #printing the individual key's value"
   ]
  },
  {
   "cell_type": "code",
   "execution_count": 5,
   "metadata": {},
   "outputs": [
    {
     "output_type": "stream",
     "name": "stdout",
     "text": [
      "Dictionray creation using dict keyword {'name': 'angad', 'roll': 504, 'Subject': 'python'}\nDictionary using curly braces {'Address': 'pokhara-02', 'Country': 'Nepal'}\nDictionary using Zip function {'name': 'Angad Lamichhane', 'roll': 504, 'subject': 'Python'}\nDictionary using tuples {'one': 1, 'two': 2}\n"
     ]
    }
   ],
   "source": [
    "#creation of dictionary using dict keyword\n",
    "a = dict(name='angad',roll=504,Subject=\"python\")\n",
    "b = {'Address':\"pokhara-02\",\"Country\":\"Nepal\"}#creation of dictionary using curly braces\n",
    "#using Zip function \n",
    "c = dict(zip(['name','roll','subject'],['Angad Lamichhane',504,'Python']))\n",
    "#creation of dictionaries using tuples \n",
    "d = dict([('one',1),('two',2)])\n",
    "print(f'Dictionray creation using dict keyword {a}')\n",
    "print(f'Dictionary using curly braces {b}')\n",
    "print(f'Dictionary using Zip function {c}')\n",
    "print(f'Dictionary using tuples {d}')\n",
    "\n"
   ]
  },
  {
   "cell_type": "code",
   "execution_count": 6,
   "metadata": {},
   "outputs": [],
   "source": [
    "#operators in Dictionary\n",
    "#calculating the length of dictionry "
   ]
  },
  {
   "cell_type": "code",
   "execution_count": 7,
   "metadata": {},
   "outputs": [
    {
     "output_type": "stream",
     "name": "stdout",
     "text": [
      "The new dictionary c is :{'Address': 'pokhara-02', 'Country': 'Nepal'}\n"
     ]
    }
   ],
   "source": [
    "# copy dictionary \n",
    "b = {'Address':\"pokhara-02\",\"Country\":\"Nepal\"}#creation of dictionary using curly braces\n",
    "c = b.copy()\n",
    "print(f'The new dictionary c is :{c}')"
   ]
  },
  {
   "cell_type": "code",
   "execution_count": 8,
   "metadata": {},
   "outputs": [
    {
     "output_type": "stream",
     "name": "stdout",
     "text": [
      "start length of the dictionary is: 3\nLenth of the dictionary after the clear is :0\n"
     ]
    },
    {
     "output_type": "execute_result",
     "data": {
      "text/plain": [
       "{}"
      ]
     },
     "metadata": {},
     "execution_count": 8
    }
   ],
   "source": [
    "#dictionary clear\n",
    "a = dict(name='angad',roll=504,Subject=\"python\")\n",
    "print(f'start length of the dictionary is: {len(a)}')\n",
    "a.clear() #romving the items from the dictionary\n",
    "print(f'Lenth of the dictionary after the clear is :{len(a)}')\n",
    "a"
   ]
  },
  {
   "cell_type": "code",
   "execution_count": 9,
   "metadata": {},
   "outputs": [
    {
     "output_type": "stream",
     "name": "stdout",
     "text": [
      "The dictionary using key {'name': None, 'age': None, 'sex': None}\nDictionary after key value pair {'name': ['angad', 23, 'Male'], 'age': ['angad', 23, 'Male'], 'sex': ['angad', 23, 'Male']}\n"
     ]
    }
   ],
   "source": [
    "#Create a new dictionary with keys from seq and values set to value.\n",
    "seq = ('name','age','sex')\n",
    "my_bio = dict.fromkeys(seq) #assign the key into the my_bio dictionary\n",
    "print(\"The dictionary using key\",my_bio)\n",
    "my_bio = dict.fromkeys(seq,[\"angad\",23,'Male']) #assiging the values in the dictionary\n",
    "print(\"Dictionary after key value pair\",my_bio)"
   ]
  },
  {
   "cell_type": "code",
   "execution_count": 10,
   "metadata": {},
   "outputs": [
    {
     "output_type": "execute_result",
     "data": {
      "text/plain": [
       "504"
      ]
     },
     "metadata": {},
     "execution_count": 10
    }
   ],
   "source": [
    "student = {'name': 'Angad Lamichhane', 'Roll': 504, 'Subject': 'Python'}\n",
    "#geting the value of the individual value \n",
    "student.get(\"Roll\") #returns the value of the specified key"
   ]
  },
  {
   "cell_type": "code",
   "execution_count": 11,
   "metadata": {},
   "outputs": [
    {
     "output_type": "execute_result",
     "data": {
      "text/plain": [
       "dict_items([('name', 'Angad Lamichhane'), ('Roll', 504), ('Subject', 'Python')])"
      ]
     },
     "metadata": {},
     "execution_count": 11
    }
   ],
   "source": [
    "student.items() #return a list containing a tuple foe each key value pair"
   ]
  },
  {
   "cell_type": "code",
   "execution_count": 12,
   "metadata": {},
   "outputs": [
    {
     "output_type": "execute_result",
     "data": {
      "text/plain": [
       "dict_keys(['name', 'Roll', 'Subject'])"
      ]
     },
     "metadata": {},
     "execution_count": 12
    }
   ],
   "source": [
    "student.keys() #returns a list containing the dicitionary's key"
   ]
  },
  {
   "cell_type": "code",
   "execution_count": 13,
   "metadata": {},
   "outputs": [
    {
     "output_type": "execute_result",
     "data": {
      "text/plain": [
       "dict_values(['Angad Lamichhane', 504, 'Python'])"
      ]
     },
     "metadata": {},
     "execution_count": 13
    }
   ],
   "source": [
    "student.values() #retuens a list of all the values in the dictionary"
   ]
  },
  {
   "cell_type": "code",
   "execution_count": 14,
   "metadata": {},
   "outputs": [
    {
     "output_type": "execute_result",
     "data": {
      "text/plain": [
       "{'name': 'Angad Lamichhane',\n",
       " 'Roll': 4,\n",
       " 'Subject': 'Python',\n",
       " 'Address': 'pokhara-02',\n",
       " 'Country': 'Nepal'}"
      ]
     },
     "metadata": {},
     "execution_count": 14
    }
   ],
   "source": [
    "new_inf = {'Roll':4,'Address':\"pokhara-02\",\"Country\":\"Nepal\"}#creation of dictionary using curly braces\n",
    "student.update(new_inf) #upadate the dictionary with the specified key-value pairs #which change the roll number 504 to 4\n",
    "student"
   ]
  },
  {
   "cell_type": "code",
   "execution_count": 1,
   "metadata": {},
   "outputs": [
    {
     "output_type": "execute_result",
     "data": {
      "text/plain": [
       "6"
      ]
     },
     "metadata": {},
     "execution_count": 1
    }
   ],
   "source": [
    "#creation of the dictionary\n",
    "bio = {'name': 'Angad Lamichhane',\n",
    " 'Roll': 4,\n",
    " 'Subject': 'Python',\n",
    " 'Address': 'pokhara-02',\n",
    " 'Country': 'Nepal',\n",
    " 'district':'Kaski'}\n",
    "len(bio) #return the no of key value pair"
   ]
  },
  {
   "cell_type": "code",
   "execution_count": 17,
   "metadata": {},
   "outputs": [
    {
     "output_type": "execute_result",
     "data": {
      "text/plain": [
       "True"
      ]
     },
     "metadata": {},
     "execution_count": 17
    }
   ],
   "source": [
    "#in operator in dictiories this tells specific key exit or not\n",
    "'name' in bio #gives the boolen expression If there exits return true else it return false"
   ]
  },
  {
   "cell_type": "code",
   "execution_count": 18,
   "metadata": {},
   "outputs": [
    {
     "output_type": "execute_result",
     "data": {
      "text/plain": [
       "False"
      ]
     },
     "metadata": {},
     "execution_count": 18
    }
   ],
   "source": [
    "'phone_number' in bio #return false is not exist key in dictionary"
   ]
  },
  {
   "cell_type": "code",
   "execution_count": 21,
   "metadata": {},
   "outputs": [
    {
     "output_type": "execute_result",
     "data": {
      "text/plain": [
       "True"
      ]
     },
     "metadata": {},
     "execution_count": 21
    }
   ],
   "source": [
    "# to check value store values in new value\n",
    "value = bio.values() #getting the values from the dictionary in the form of least\n",
    "'Angad Lamichhane' in value"
   ]
  },
  {
   "cell_type": "code",
   "execution_count": 25,
   "metadata": {},
   "outputs": [
    {
     "output_type": "execute_result",
     "data": {
      "text/plain": [
       "{'a': 3, 'v': 1, 'i': 1, 'l': 2, 'b': 1, 'e': 1}"
      ]
     },
     "metadata": {},
     "execution_count": 25
    }
   ],
   "source": [
    "def histogram(s): #function definition\n",
    "    d = dict() #creation of empty list\n",
    "    for c in s: #assigning each element from parameters in C varaible\n",
    "        if c not in d: #checking element in dictionart\n",
    "            d[c]=1 #assigining value 1\n",
    "        else: \n",
    "            d[c]+=1 #if already assign in the dictionary d then increase the value\n",
    "    return d\n",
    "histogram(\"available\") #function calling with the one arguments"
   ]
  },
  {
   "cell_type": "code",
   "execution_count": 27,
   "metadata": {},
   "outputs": [
    {
     "output_type": "execute_result",
     "data": {
      "text/plain": [
       "{'a': 1}"
      ]
     },
     "metadata": {},
     "execution_count": 27
    }
   ],
   "source": [
    "h = histogram('a') #sending one argument in the function call\n",
    "h"
   ]
  },
  {
   "cell_type": "code",
   "execution_count": 28,
   "metadata": {},
   "outputs": [
    {
     "output_type": "execute_result",
     "data": {
      "text/plain": [
       "1"
      ]
     },
     "metadata": {},
     "execution_count": 28
    }
   ],
   "source": [
    "h.get('a',0) #checking the a key is in 0 index or not, "
   ]
  },
  {
   "cell_type": "code",
   "execution_count": 29,
   "metadata": {},
   "outputs": [
    {
     "output_type": "execute_result",
     "data": {
      "text/plain": [
       "1"
      ]
     },
     "metadata": {},
     "execution_count": 29
    }
   ],
   "source": [
    "h.get('a',1) #checking a key in 1 index"
   ]
  },
  {
   "cell_type": "code",
   "execution_count": 35,
   "metadata": {},
   "outputs": [
    {
     "output_type": "stream",
     "name": "stdout",
     "text": [
      "p 1\na 1\nr 2\no 1\nt 1\n"
     ]
    }
   ],
   "source": [
    "def print_histogram(h): #defining function with the argument \n",
    "    for c in h: #for loop\n",
    "        print (c, h[c]) #print\n",
    "h = histogram('parrot')\n",
    "print_histogram(h)"
   ]
  },
  {
   "cell_type": "code",
   "execution_count": 40,
   "metadata": {},
   "outputs": [
    {
     "output_type": "execute_result",
     "data": {
      "text/plain": [
       "'r'"
      ]
     },
     "metadata": {},
     "execution_count": 40
    }
   ],
   "source": [
    "def reverse_lookup(d,v): #definig function with 2 parameters\n",
    "    for k in d:\n",
    "        if d[k]==v: #checking any letter is assign 2 times than it return the letter having 2 times repeat\n",
    "            return k\n",
    "    raise ValueError # a value error raised when an function get inappropriate value\n",
    "h = histogram('parrot') #function calling\n",
    "k = reverse_lookup(h,2)\n",
    "k"
   ]
  },
  {
   "cell_type": "code",
   "execution_count": 41,
   "metadata": {},
   "outputs": [
    {
     "output_type": "stream",
     "name": "stdout",
     "text": [
      "Orginal value {'a': 2, 'n': 1, 'g': 1, 'd': 1}\nInverse dictionary {2: ['a'], 1: ['n', 'g', 'd']}\n"
     ]
    }
   ],
   "source": [
    "#inverting dictionary\n",
    "def invert_dict(d):\n",
    "    inv = dict() #defining empty dictionary\n",
    "    for key in d:\n",
    "        val = d[key] #storing the key into the variable val\n",
    "        if val not in inv:\n",
    "            inv[val] = [key] #assigning new key into value for reverse dictionary\n",
    "        else:\n",
    "            inv[val].append(key) #adding new value in reverse dictionary\n",
    "    return inv\n",
    "hist = histogram(\"angad\")\n",
    "print(f'Orginal value {hist}')\n",
    "inv = invert_dict(hist)\n",
    "print(f'Inverse dictionary {inv}')"
   ]
  },
  {
   "cell_type": "code",
   "execution_count": 42,
   "metadata": {},
   "outputs": [
    {
     "output_type": "stream",
     "name": "stdout",
     "text": [
      "matrix is [[1, 2, 3], [4, 5, 6], [7, 8, 9]]\nGetting the first column [4, 5, 6]\nExtrecting single elemenent 6\n"
     ]
    }
   ],
   "source": [
    "#matrix : list of lists\n",
    "mx = [[1,2,3],[4,5,6],[7,8,9]]\n",
    "print(\"matrix is\",mx)\n",
    "print(f\"Getting the first column {mx[1]}\")\n",
    "print(f'Extrecting single elemenent {mx[1][2]}')"
   ]
  },
  {
   "cell_type": "code",
   "execution_count": 45,
   "metadata": {},
   "outputs": [
    {
     "output_type": "execute_result",
     "data": {
      "text/plain": [
       "[[0, 0, 0, 1, 0],\n",
       " [0, 0, 0, 0, 0],\n",
       " [0, 2, 0, 0, 0],\n",
       " [0, 0, 0, 0, 0],\n",
       " [0, 0, 0, 3, 0]]"
      ]
     },
     "metadata": {},
     "execution_count": 45
    }
   ],
   "source": [
    "#sparse matrix using dictionary\n",
    "matrix = [[0,0,0,1,0],[0,0,0,0,0],[0,2,0,0,0],[0,0,0,0,0],[0,0,0,3,0]]\n",
    "matrix"
   ]
  },
  {
   "cell_type": "code",
   "execution_count": 47,
   "metadata": {},
   "outputs": [
    {
     "output_type": "execute_result",
     "data": {
      "text/plain": [
       "1"
      ]
     },
     "metadata": {},
     "execution_count": 47
    }
   ],
   "source": [
    "matrix = {(0,3):1, (2,1):2, (4,3):3}\n",
    "matrix[(0,3)] #to access an element of the matrix, we could use the [] operator"
   ]
  },
  {
   "cell_type": "code",
   "execution_count": 49,
   "metadata": {},
   "outputs": [
    {
     "output_type": "execute_result",
     "data": {
      "text/plain": [
       "1"
      ]
     },
     "metadata": {},
     "execution_count": 49
    }
   ],
   "source": [
    "matrix.get((0,3),0) #get method to access the "
   ]
  },
  {
   "cell_type": "code",
   "execution_count": null,
   "metadata": {},
   "outputs": [],
   "source": []
  }
 ]
}